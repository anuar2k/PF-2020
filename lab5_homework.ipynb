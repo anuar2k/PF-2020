{
 "cells": [
  {
   "cell_type": "markdown",
   "metadata": {},
   "source": [
    "## 2) Łączenie (sekwencje) 'akcji' I/O - operatory `>>` (*then*) i `>>=` (*bind*), notacja *do*"
   ]
  },
  {
   "cell_type": "markdown",
   "metadata": {},
   "source": [
    "### 2.8.1"
   ]
  },
  {
   "cell_type": "code",
   "execution_count": 1,
   "metadata": {},
   "outputs": [],
   "source": [
    "echo3 :: IO ()\n",
    "echo3 = do\n",
    "  l1 <- getLine\n",
    "  l2 <- getLine\n",
    "  putStrLn $ l1 ++ l2\n",
    "  \n",
    "dialog :: IO ()\n",
    "dialog = do\n",
    "  putStr \"What is your happy number? \"\n",
    "  n <- getLine\n",
    "  let num = read n :: Int\n",
    "  if num == 7\n",
    "  then putStrLn \"Ah, lucky 7!\"\n",
    "  else if odd num\n",
    "    then putStrLn \"Odd number! That's most people's choice...\"\n",
    "    else putStrLn \"Hm, even number? Unusual!\""
   ]
  },
  {
   "cell_type": "code",
   "execution_count": 2,
   "metadata": {},
   "outputs": [
    {
     "data": {
      "text/plain": [
       "123456"
      ]
     },
     "metadata": {},
     "output_type": "display_data"
    }
   ],
   "source": [
    "echo3"
   ]
  },
  {
   "cell_type": "code",
   "execution_count": 3,
   "metadata": {},
   "outputs": [
    {
     "data": {
      "text/plain": [
       "What is your happy number? Hm, even number? Unusual!"
      ]
     },
     "metadata": {},
     "output_type": "display_data"
    }
   ],
   "source": [
    "dialog"
   ]
  },
  {
   "cell_type": "markdown",
   "metadata": {},
   "source": [
    "### 2.8.2"
   ]
  },
  {
   "cell_type": "code",
   "execution_count": 4,
   "metadata": {},
   "outputs": [],
   "source": [
    "twoQuestions :: IO ()\n",
    "twoQuestions = putStr \"What is your name? \"\n",
    "               >> getLine\n",
    "               >>= \\name -> putStr \"How old are you? \"\n",
    "               >> getLine\n",
    "               >>= \\age -> print (name, age)"
   ]
  },
  {
   "cell_type": "code",
   "execution_count": 5,
   "metadata": {},
   "outputs": [
    {
     "data": {
      "text/plain": [
       "What is your name? How old are you? (\"Olek\",\"20\")"
      ]
     },
     "metadata": {},
     "output_type": "display_data"
    }
   ],
   "source": [
    "twoQuestions"
   ]
  },
  {
   "cell_type": "markdown",
   "metadata": {},
   "source": [
    "### 6) Funktory 2: dołączanie typów użytkownika do klasy `Functor`"
   ]
  },
  {
   "cell_type": "markdown",
   "metadata": {},
   "source": [
    "### 6.8.1"
   ]
  },
  {
   "cell_type": "code",
   "execution_count": 6,
   "metadata": {},
   "outputs": [
    {
     "ename": "",
     "evalue": "",
     "header": "MessageHeader {mhIdentifiers = [\"a141af92-59bd-456c-8a66-ab9f531e974f\"], mhParentHeader = Just (MessageHeader {mhIdentifiers = [\"a141af92-59bd-456c-8a66-ab9f531e974f\"], mhParentHeader = Nothing, mhMetadata = Metadata (fromList [(\"recordTiming\",Bool False),(\"deletedCells\",Array []),(\"cellId\",String \"50728b34-8d57-4b44-8b05-efae4c459e97\")]), mhMessageId = UUID {uuidToString = \"38854ea2-dbfa-48b7-9325-fd2bd63ba1d1\"}, mhSessionId = UUID {uuidToString = \"a141af92-59bd-456c-8a66-ab9f531e974f\"}, mhUsername = \"\", mhMsgType = ExecuteRequestMessage, mhBuffers = []}), mhMetadata = Metadata (fromList []), mhMessageId = UUID {uuidToString = \"55e4959d-4b6e-4a75-90ce-a3ce0ef92fd3\"}, mhSessionId = UUID {uuidToString = \"a141af92-59bd-456c-8a66-ab9f531e974f\"}, mhUsername = \"\", mhMsgType = ExecuteErrorMessage, mhBuffers = []}",
     "output_type": "error",
     "traceback": [
      "<interactive>:1:56: error:\n    • Can't make a derived instance of ‘Functor MyList’: You need DeriveFunctor to derive an instance for this class\n    • In the data declaration for ‘MyList’"
     ]
    }
   ],
   "source": [
    "data MyList a = EmptyList | Cons a (MyList a) deriving Functor"
   ]
  },
  {
   "cell_type": "markdown",
   "metadata": {},
   "source": [
    "### 6.8.2"
   ]
  },
  {
   "cell_type": "code",
   "execution_count": 7,
   "metadata": {},
   "outputs": [],
   "source": [
    "data BinTree a = EmptyBT | NodeBT a (BinTree a) (BinTree a)\n",
    "\n",
    "instance Functor BinTree where\n",
    "  fmap _ EmptyBT = EmptyBT\n",
    "  fmap f (NodeBT c l r) = NodeBT (f c) (fmap f l) (fmap f r)"
   ]
  },
  {
   "cell_type": "code",
   "execution_count": 8,
   "metadata": {},
   "outputs": [
    {
     "ename": "",
     "evalue": "",
     "header": "MessageHeader {mhIdentifiers = [\"a141af92-59bd-456c-8a66-ab9f531e974f\"], mhParentHeader = Just (MessageHeader {mhIdentifiers = [\"a141af92-59bd-456c-8a66-ab9f531e974f\"], mhParentHeader = Nothing, mhMetadata = Metadata (fromList [(\"recordTiming\",Bool False),(\"deletedCells\",Array []),(\"cellId\",String \"c8d10151-344f-4220-afd6-52b41cea3a4c\")]), mhMessageId = UUID {uuidToString = \"97b9c017-c21f-4bc1-bb06-969ab5b7244b\"}, mhSessionId = UUID {uuidToString = \"a141af92-59bd-456c-8a66-ab9f531e974f\"}, mhUsername = \"\", mhMsgType = ExecuteRequestMessage, mhBuffers = []}), mhMetadata = Metadata (fromList []), mhMessageId = UUID {uuidToString = \"ee11357d-a9db-4463-8004-d082b13e4b0c\"}, mhSessionId = UUID {uuidToString = \"a141af92-59bd-456c-8a66-ab9f531e974f\"}, mhUsername = \"\", mhMsgType = ExecuteErrorMessage, mhBuffers = []}",
     "output_type": "error",
     "traceback": [
      "<interactive>:1:70: error:\n    • Can't make a derived instance of ‘Functor BinTree’: You need DeriveFunctor to derive an instance for this class\n    • In the data declaration for ‘BinTree’"
     ]
    }
   ],
   "source": [
    "data BinTree a = EmptyBT | NodeBT a (BinTree a) (BinTree a) deriving Functor"
   ]
  },
  {
   "cell_type": "markdown",
   "metadata": {},
   "source": [
    "## 8) Funktory aplikatywne 2: dołączanie typów użytkownika do klasy `Applicative`"
   ]
  },
  {
   "cell_type": "markdown",
   "metadata": {},
   "source": [
    "### 8.4.1"
   ]
  },
  {
   "cell_type": "code",
   "execution_count": 9,
   "metadata": {},
   "outputs": [],
   "source": [
    "newtype MyTriple a = MyTriple (a, a, a) deriving Show\n",
    "\n",
    "instance Functor MyTriple where\n",
    "  fmap f (MyTriple (a, b, c)) = MyTriple (f a, f b, f c)\n",
    "  \n",
    "instance Applicative MyTriple where\n",
    "  pure f = MyTriple (f, f, f)\n",
    "  MyTriple (f1, f2, f3) <*> MyTriple (v1, v2, v3) = MyTriple (f1 v1, f2 v2, f3 v3)"
   ]
  }
 ],
 "metadata": {
  "kernelspec": {
   "display_name": "Haskell",
   "language": "haskell",
   "name": "haskell"
  },
  "language_info": {
   "codemirror_mode": "ihaskell",
   "file_extension": ".hs",
   "name": "haskell",
   "pygments_lexer": "Haskell",
   "version": "8.6.5"
  }
 },
 "nbformat": 4,
 "nbformat_minor": 4
}
