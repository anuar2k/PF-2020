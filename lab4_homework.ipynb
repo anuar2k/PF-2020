{
 "cells": [
  {
   "cell_type": "markdown",
   "metadata": {},
   "source": [
    "## 1) Typy w Haskellu: *type vs. newtype*"
   ]
  },
  {
   "cell_type": "markdown",
   "metadata": {},
   "source": [
    "### 1.5.1"
   ]
  },
  {
   "cell_type": "code",
   "execution_count": 1,
   "metadata": {},
   "outputs": [],
   "source": [
    "newtype CartesianCoord a = MkCartesianCoord (a, a) deriving (Show)\n",
    "newtype PolarCoord a = MkPolarCoord (a, a) deriving (Show)\n",
    "  \n",
    "polarToCartesian :: Floating a => PolarCoord a -> CartesianCoord a\n",
    "polarToCartesian (MkPolarCoord (r, phi)) = MkCartesianCoord (r * cos phi, r * sin phi)"
   ]
  },
  {
   "cell_type": "code",
   "execution_count": 2,
   "metadata": {},
   "outputs": [],
   "source": [
    "okType = MkPolarCoord (1, pi)\n",
    "res1 = polarToCartesian okType"
   ]
  },
  {
   "cell_type": "code",
   "execution_count": 3,
   "metadata": {},
   "outputs": [
    {
     "data": {
      "text/plain": [
       "MkCartesianCoord (-1.0,1.2246467991473532e-16)"
      ]
     },
     "metadata": {},
     "output_type": "display_data"
    }
   ],
   "source": [
    "res1"
   ]
  },
  {
   "cell_type": "code",
   "execution_count": 4,
   "metadata": {},
   "outputs": [
    {
     "ename": "",
     "evalue": "",
     "header": "MessageHeader {mhIdentifiers = [\"0c6b3230-d1e1-493f-ba42-c11d078c3ac7\"], mhParentHeader = Just (MessageHeader {mhIdentifiers = [\"0c6b3230-d1e1-493f-ba42-c11d078c3ac7\"], mhParentHeader = Nothing, mhMetadata = Metadata (fromList [(\"recordTiming\",Bool False),(\"deletedCells\",Array [String \"e694ec73-0954-45ba-828e-c69527ef0ac6\",String \"c18c4c00-0f33-4f15-b490-a39f1518e5cb\"]),(\"cellId\",String \"3031cc22-966f-465c-bac8-7540af72ab36\")]), mhMessageId = UUID {uuidToString = \"6a3884f8-d8aa-4e4b-aeab-64a978ba4f52\"}, mhSessionId = UUID {uuidToString = \"0c6b3230-d1e1-493f-ba42-c11d078c3ac7\"}, mhUsername = \"\", mhMsgType = ExecuteRequestMessage, mhBuffers = []}), mhMetadata = Metadata (fromList []), mhMessageId = UUID {uuidToString = \"9441e19f-1c93-4cb3-ba5a-ae066ee2abb5\"}, mhSessionId = UUID {uuidToString = \"0c6b3230-d1e1-493f-ba42-c11d078c3ac7\"}, mhUsername = \"\", mhMsgType = ExecuteErrorMessage, mhBuffers = []}",
     "output_type": "error",
     "traceback": [
      "<interactive>:2:25: error:\n    • Couldn't match expected type ‘PolarCoord a’ with actual type ‘(Integer, Integer)’\n    • In the first argument of ‘polarToCartesian’, namely ‘wrongType’\n      In the expression: polarToCartesian wrongType\n      In an equation for ‘res2’: res2 = polarToCartesian wrongType\n    • Relevant bindings include res2 :: CartesianCoord a (bound at <interactive>:2:1)"
     ]
    }
   ],
   "source": [
    "wrongType = (1, 2)\n",
    "res2 = polarToCartesian wrongType"
   ]
  },
  {
   "cell_type": "code",
   "execution_count": 5,
   "metadata": {},
   "outputs": [
    {
     "ename": "",
     "evalue": "",
     "header": "MessageHeader {mhIdentifiers = [\"0c6b3230-d1e1-493f-ba42-c11d078c3ac7\"], mhParentHeader = Just (MessageHeader {mhIdentifiers = [\"0c6b3230-d1e1-493f-ba42-c11d078c3ac7\"], mhParentHeader = Nothing, mhMetadata = Metadata (fromList [(\"recordTiming\",Bool False),(\"deletedCells\",Array [String \"e694ec73-0954-45ba-828e-c69527ef0ac6\",String \"c18c4c00-0f33-4f15-b490-a39f1518e5cb\"]),(\"cellId\",String \"dc1e7bf5-612c-4192-802a-7ce9b5784e71\")]), mhMessageId = UUID {uuidToString = \"86e7f68e-ba30-49d4-9a8e-5d993bb81116\"}, mhSessionId = UUID {uuidToString = \"0c6b3230-d1e1-493f-ba42-c11d078c3ac7\"}, mhUsername = \"\", mhMsgType = ExecuteRequestMessage, mhBuffers = []}), mhMetadata = Metadata (fromList []), mhMessageId = UUID {uuidToString = \"0c7e3c13-8c48-4010-9806-39a5e0c51d63\"}, mhSessionId = UUID {uuidToString = \"0c6b3230-d1e1-493f-ba42-c11d078c3ac7\"}, mhUsername = \"\", mhMsgType = ExecuteErrorMessage, mhBuffers = []}",
     "output_type": "error",
     "traceback": [
      "<interactive>:2:25: error:\n    • Couldn't match expected type ‘PolarCoord a’ with actual type ‘CartesianCoord Integer’\n    • In the first argument of ‘polarToCartesian’, namely ‘wrongType2’\n      In the expression: polarToCartesian wrongType2\n      In an equation for ‘res3’: res3 = polarToCartesian wrongType2\n    • Relevant bindings include res3 :: CartesianCoord a (bound at <interactive>:2:1)"
     ]
    }
   ],
   "source": [
    "wrongType2 = MkCartesianCoord (1, 2)\n",
    "res3 = polarToCartesian wrongType2"
   ]
  },
  {
   "cell_type": "markdown",
   "metadata": {},
   "source": [
    "Taka implementacja pozwala na łatwe odróżnienie koordynatów kartezjańskich i polarnych; gwarantuje, że nie zaaplikujemy funkcji do argumentów złego typu - za każdym razem, kiedy zechcemy utworzyć punkt o koordynatach polarnych będziemy musieli to robić świadomie korzystajac z `MkPolarCoord`"
   ]
  },
  {
   "cell_type": "markdown",
   "metadata": {},
   "source": [
    "## 2) Algebraiczne typy danych 1: product & sum types, record syntax"
   ]
  },
  {
   "cell_type": "markdown",
   "metadata": {},
   "source": [
    "### 2.7.1"
   ]
  },
  {
   "cell_type": "code",
   "execution_count": 6,
   "metadata": {},
   "outputs": [
    {
     "data": {
      "text/plain": [
       "1"
      ]
     },
     "metadata": {},
     "output_type": "display_data"
    },
    {
     "data": {
      "text/plain": [
       "2"
      ]
     },
     "metadata": {},
     "output_type": "display_data"
    },
    {
     "data": {
      "text/plain": [
       "3"
      ]
     },
     "metadata": {},
     "output_type": "display_data"
    },
    {
     "data": {
      "text/plain": [
       "4"
      ]
     },
     "metadata": {},
     "output_type": "display_data"
    },
    {
     "data": {
      "text/plain": [
       "2"
      ]
     },
     "metadata": {},
     "output_type": "display_data"
    },
    {
     "data": {
      "text/plain": [
       "0"
      ]
     },
     "metadata": {},
     "output_type": "display_data"
    }
   ],
   "source": [
    "data Cart3DVec a = Cart3DVec a a a\n",
    "\n",
    "xCoord3D (Cart3DVec x _ _) = x\n",
    "yCoord3D (Cart3DVec _ y _) = y\n",
    "zCoord3D (Cart3DVec _ _ z) = z\n",
    "\n",
    "coord1 = Cart3DVec 1 2 3\n",
    "\n",
    "xCoord3D coord1\n",
    "yCoord3D coord1\n",
    "zCoord3D coord1\n",
    "\n",
    "data Cart3DVec' a = Cart3DVec' {x::a, y::a, z::a}\n",
    "\n",
    "coord2 = Cart3DVec' 4 2 0\n",
    "\n",
    "x coord2\n",
    "y coord2\n",
    "z coord2"
   ]
  },
  {
   "cell_type": "markdown",
   "metadata": {},
   "source": [
    "### 2.7.6"
   ]
  },
  {
   "cell_type": "code",
   "execution_count": 7,
   "metadata": {},
   "outputs": [
    {
     "data": {
      "text/plain": [
       "6.2831855"
      ]
     },
     "metadata": {},
     "output_type": "display_data"
    },
    {
     "data": {
      "text/plain": [
       "8.0"
      ]
     },
     "metadata": {},
     "output_type": "display_data"
    }
   ],
   "source": [
    "data Shape = Circle Float | Rectangle Float Float\n",
    "area :: Shape -> Float\n",
    "area (Circle r) = pi * r * r\n",
    "area (Rectangle a b) = a * b\n",
    "\n",
    "shape1 = Circle $ sqrt 2\n",
    "shape2 = Rectangle 4 2\n",
    "\n",
    "area shape1\n",
    "area shape2"
   ]
  },
  {
   "cell_type": "markdown",
   "metadata": {},
   "source": [
    "### 2.7.7"
   ]
  },
  {
   "cell_type": "code",
   "execution_count": 8,
   "metadata": {},
   "outputs": [
    {
     "data": {
      "text/plain": [
       "\"hold on\""
      ]
     },
     "metadata": {},
     "output_type": "display_data"
    },
    {
     "data": {
      "text/plain": [
       "\"pedal to the metal or you won't make it\""
      ]
     },
     "metadata": {},
     "output_type": "display_data"
    }
   ],
   "source": [
    "data TrafficLights = Red | RedYellow | Yellow | Green\n",
    "actionFor :: TrafficLights -> String\n",
    "\n",
    "actionFor Red = \"hold on\"\n",
    "actionFor RedYellow = \"launch control\"\n",
    "actionFor Yellow = \"pedal to the metal or you won't make it\"\n",
    "actionFor Green = \"good to go\"\n",
    "\n",
    "actionFor Red\n",
    "actionFor Yellow"
   ]
  },
  {
   "cell_type": "markdown",
   "metadata": {},
   "source": [
    "## 3) Algebraiczne typy danych 2: rekursja strukturalna"
   ]
  },
  {
   "cell_type": "markdown",
   "metadata": {},
   "source": [
    "### 3.4.1"
   ]
  },
  {
   "cell_type": "code",
   "execution_count": 9,
   "metadata": {},
   "outputs": [],
   "source": [
    "data BinTree a = EmptyBT | NodeBT a (BinTree a) (BinTree a)\n",
    "\n",
    "instance (Show a) => Show (BinTree a) where\n",
    "  show EmptyBT = \"∅\"\n",
    "  show (NodeBT n lt rt) = \"{\" ++ show lt ++ \"<-\" ++ show n ++ \"->\" ++ show rt ++ \"}\"\n",
    "\n",
    "tree = NodeBT 2 (NodeBT 2 EmptyBT EmptyBT) (NodeBT 3 EmptyBT EmptyBT)"
   ]
  },
  {
   "cell_type": "code",
   "execution_count": 10,
   "metadata": {},
   "outputs": [],
   "source": [
    "depthOfBT :: BinTree a -> Int\n",
    "depthOfBT EmptyBT = 0\n",
    "depthOfBT (NodeBT _ lt rt) = 1 + max (depthOfBT lt) (depthOfBT rt)\n",
    "\n",
    "--TODO: add preorder,postorder\n",
    "flattenBT :: BinTree a -> [a]\n",
    "flattenBT EmptyBT = []\n",
    "flattenBT (NodeBT n lt rt) = flattenBT lt ++ [n] ++ flattenBT rt \n",
    "\n",
    "mapBT :: (a -> b) -> BinTree a -> BinTree b\n",
    "mapBT _ EmptyBT = EmptyBT\n",
    "mapBT f (NodeBT n lt rt) = NodeBT (f n) (mapBT f lt) (mapBT f rt)\n",
    "\n",
    "insert :: Ord a => a -> BinTree a -> BinTree a\n",
    "insert n EmptyBT = NodeBT n EmptyBT EmptyBT\n",
    "insert n (NodeBT curr lt rt)\n",
    "  | n <= curr = NodeBT curr (insert n lt) rt\n",
    "  | otherwise = NodeBT curr lt (insert n rt)\n",
    "\n",
    "import Data.List\n",
    "list2BST :: Ord a => [a] -> BinTree a\n",
    "list2BST list = internal $ sort list\n",
    "  where internal [] = EmptyBT\n",
    "        internal xs = NodeBT m (internal l) (internal r)\n",
    "          where (l, (m:r)) = splitAt (length xs `div` 2) xs"
   ]
  },
  {
   "cell_type": "code",
   "execution_count": 11,
   "metadata": {},
   "outputs": [
    {
     "data": {
      "text/plain": [
       "[2,2,3]"
      ]
     },
     "metadata": {},
     "output_type": "display_data"
    },
    {
     "data": {
      "text/plain": [
       "[1,2,2,3]"
      ]
     },
     "metadata": {},
     "output_type": "display_data"
    },
    {
     "data": {
      "text/plain": [
       "{{{{∅<-1->∅}<-2->∅}<-2->∅}<-2->{∅<-3->{∅<-5->∅}}}"
      ]
     },
     "metadata": {},
     "output_type": "display_data"
    },
    {
     "data": {
      "text/plain": [
       "{{{∅<-1->∅}<-2->{∅<-3->∅}}<-4->{{∅<-5->∅}<-6->{∅<-7->∅}}}"
      ]
     },
     "metadata": {},
     "output_type": "display_data"
    }
   ],
   "source": [
    "flattenBT tree\n",
    "flattenBT $ insert 1 tree\n",
    "insert 5 $ insert 1 $ insert 2 tree\n",
    "list2BST [7, 6, 5, 4, 3, 2, 1]"
   ]
  },
  {
   "cell_type": "markdown",
   "metadata": {},
   "source": [
    "### 3.4.6"
   ]
  },
  {
   "cell_type": "code",
   "execution_count": 12,
   "metadata": {},
   "outputs": [],
   "source": [
    "data Expr a = Lit a | \n",
    "              Add (Expr a) (Expr a) |\n",
    "              Sub (Expr a) (Expr a) |\n",
    "              Mul (Expr a) (Expr a)\n",
    "\n",
    "eval :: Num a => Expr a -> a\n",
    "eval (Lit n) = n\n",
    "eval (Add e1 e2) = eval e1 + eval e2\n",
    "eval (Sub e1 e2) = eval e1 - eval e2\n",
    "eval (Mul e1 e2) = eval e1 * eval e2\n",
    "\n",
    "instance (Show a) => Show (Expr a) where\n",
    "  show (Lit n) = show n\n",
    "  show (Add e1 e2) = \"(\" ++ show e1 ++ \"+\" ++ show e2 ++ \")\"\n",
    "  show (Sub e1 e2) = \"(\" ++ show e1 ++ \"-\" ++ show e2 ++ \")\"\n",
    "  show (Mul e1 e2) = \"(\" ++ show e1 ++ \"*\" ++ show e2 ++ \")\""
   ]
  },
  {
   "cell_type": "code",
   "execution_count": 13,
   "metadata": {},
   "outputs": [
    {
     "data": {
      "text/plain": [
       "(((3+5)*(3-1))-10)"
      ]
     },
     "metadata": {},
     "output_type": "display_data"
    },
    {
     "data": {
      "text/plain": [
       "6"
      ]
     },
     "metadata": {},
     "output_type": "display_data"
    }
   ],
   "source": [
    "expr = Sub (Mul (Add (Lit 3) (Lit 5)) (Sub (Lit 3) (Lit 1))) (Lit 10)\n",
    "expr\n",
    "eval expr"
   ]
  },
  {
   "cell_type": "markdown",
   "metadata": {},
   "source": [
    "## 5) Klasy typów i ich instancje 1: dołączanie typu do istniejącej klasy"
   ]
  },
  {
   "cell_type": "markdown",
   "metadata": {},
   "source": [
    "### 5.6.1"
   ]
  },
  {
   "cell_type": "code",
   "execution_count": 14,
   "metadata": {},
   "outputs": [],
   "source": [
    "newtype MyInt = MkMyInt Int"
   ]
  },
  {
   "cell_type": "code",
   "execution_count": 15,
   "metadata": {},
   "outputs": [
    {
     "ename": "",
     "evalue": "",
     "header": "MessageHeader {mhIdentifiers = [\"0c6b3230-d1e1-493f-ba42-c11d078c3ac7\"], mhParentHeader = Just (MessageHeader {mhIdentifiers = [\"0c6b3230-d1e1-493f-ba42-c11d078c3ac7\"], mhParentHeader = Nothing, mhMetadata = Metadata (fromList [(\"recordTiming\",Bool False),(\"deletedCells\",Array [String \"e694ec73-0954-45ba-828e-c69527ef0ac6\",String \"c18c4c00-0f33-4f15-b490-a39f1518e5cb\"]),(\"cellId\",String \"bf038201-cb94-493a-8468-9cc9f0f8a96d\")]), mhMessageId = UUID {uuidToString = \"63947d54-1da8-4b86-9e51-4e7a462898e8\"}, mhSessionId = UUID {uuidToString = \"0c6b3230-d1e1-493f-ba42-c11d078c3ac7\"}, mhUsername = \"\", mhMsgType = ExecuteRequestMessage, mhBuffers = []}), mhMetadata = Metadata (fromList []), mhMessageId = UUID {uuidToString = \"aade1429-441e-4bd5-bc0b-4bdb240825fd\"}, mhSessionId = UUID {uuidToString = \"0c6b3230-d1e1-493f-ba42-c11d078c3ac7\"}, mhUsername = \"\", mhMsgType = ExecuteErrorMessage, mhBuffers = []}",
     "output_type": "error",
     "traceback": [
      "<interactive>:1:1: error:\n    • No instance for (Eq MyInt) arising from a use of ‘==’\n    • In the expression: MkMyInt 1 == MkMyInt 1\n      In an equation for ‘it’: it = MkMyInt 1 == MkMyInt 1"
     ]
    }
   ],
   "source": [
    "MkMyInt 1 == MkMyInt 1"
   ]
  },
  {
   "cell_type": "code",
   "execution_count": 16,
   "metadata": {},
   "outputs": [],
   "source": [
    "instance Eq MyInt where\n",
    "  (==) (MkMyInt i1) (MkMyInt i2) = i1 == i2"
   ]
  },
  {
   "cell_type": "code",
   "execution_count": 17,
   "metadata": {},
   "outputs": [
    {
     "data": {
      "text/plain": [
       "True"
      ]
     },
     "metadata": {},
     "output_type": "display_data"
    },
    {
     "data": {
      "text/plain": [
       "False"
      ]
     },
     "metadata": {},
     "output_type": "display_data"
    },
    {
     "data": {
      "text/plain": [
       "True"
      ]
     },
     "metadata": {},
     "output_type": "display_data"
    },
    {
     "ename": "",
     "evalue": "",
     "header": "MessageHeader {mhIdentifiers = [\"0c6b3230-d1e1-493f-ba42-c11d078c3ac7\"], mhParentHeader = Just (MessageHeader {mhIdentifiers = [\"0c6b3230-d1e1-493f-ba42-c11d078c3ac7\"], mhParentHeader = Nothing, mhMetadata = Metadata (fromList [(\"recordTiming\",Bool False),(\"deletedCells\",Array [String \"e694ec73-0954-45ba-828e-c69527ef0ac6\",String \"c18c4c00-0f33-4f15-b490-a39f1518e5cb\"]),(\"cellId\",String \"006fa8df-16cd-47b9-ab50-166a9d09cf2e\")]), mhMessageId = UUID {uuidToString = \"edc3ea0c-7943-4398-9899-afd172075d68\"}, mhSessionId = UUID {uuidToString = \"0c6b3230-d1e1-493f-ba42-c11d078c3ac7\"}, mhUsername = \"\", mhMsgType = ExecuteRequestMessage, mhBuffers = []}), mhMetadata = Metadata (fromList []), mhMessageId = UUID {uuidToString = \"79588140-6cf2-4afc-9c2e-ddc7b029f2b0\"}, mhSessionId = UUID {uuidToString = \"0c6b3230-d1e1-493f-ba42-c11d078c3ac7\"}, mhUsername = \"\", mhMsgType = ExecuteErrorMessage, mhBuffers = []}",
     "output_type": "error",
     "traceback": [
      "<interactive>:1:1: error:\n    • No instance for (Ord MyInt) arising from a use of ‘<’\n    • In the expression: MkMyInt 1 < MkMyInt 2\n      In an equation for ‘it’: it = MkMyInt 1 < MkMyInt 2"
     ]
    }
   ],
   "source": [
    "MkMyInt 1 == MkMyInt 1\n",
    "MkMyInt 1 == MkMyInt 2\n",
    "MkMyInt 1 /= MkMyInt 2\n",
    "MkMyInt 1 < MkMyInt 2"
   ]
  },
  {
   "cell_type": "code",
   "execution_count": 18,
   "metadata": {},
   "outputs": [],
   "source": [
    "instance Ord MyInt where\n",
    "  (<=) (MkMyInt i1) (MkMyInt i2) = i1 <= i2"
   ]
  },
  {
   "cell_type": "code",
   "execution_count": 19,
   "metadata": {},
   "outputs": [
    {
     "data": {
      "text/plain": [
       "True"
      ]
     },
     "metadata": {},
     "output_type": "display_data"
    },
    {
     "data": {
      "text/plain": [
       "True"
      ]
     },
     "metadata": {},
     "output_type": "display_data"
    },
    {
     "data": {
      "text/plain": [
       "False"
      ]
     },
     "metadata": {},
     "output_type": "display_data"
    },
    {
     "data": {
      "text/plain": [
       "False"
      ]
     },
     "metadata": {},
     "output_type": "display_data"
    },
    {
     "data": {},
     "metadata": {},
     "output_type": "display_data"
    },
    {
     "ename": "",
     "evalue": "",
     "header": "MessageHeader {mhIdentifiers = [\"0c6b3230-d1e1-493f-ba42-c11d078c3ac7\"], mhParentHeader = Just (MessageHeader {mhIdentifiers = [\"0c6b3230-d1e1-493f-ba42-c11d078c3ac7\"], mhParentHeader = Nothing, mhMetadata = Metadata (fromList [(\"recordTiming\",Bool False),(\"deletedCells\",Array [String \"e694ec73-0954-45ba-828e-c69527ef0ac6\",String \"c18c4c00-0f33-4f15-b490-a39f1518e5cb\"]),(\"cellId\",String \"02fb98ad-9c86-4058-88f2-466031a72283\")]), mhMessageId = UUID {uuidToString = \"76d56c07-e7fe-48bb-85f1-0f982f23ca2b\"}, mhSessionId = UUID {uuidToString = \"0c6b3230-d1e1-493f-ba42-c11d078c3ac7\"}, mhUsername = \"\", mhMsgType = ExecuteRequestMessage, mhBuffers = []}), mhMetadata = Metadata (fromList []), mhMessageId = UUID {uuidToString = \"c74f3f81-4ea1-4efd-9ebf-23085a6016a9\"}, mhSessionId = UUID {uuidToString = \"0c6b3230-d1e1-493f-ba42-c11d078c3ac7\"}, mhUsername = \"\", mhMsgType = ExecuteErrorMessage, mhBuffers = []}",
     "output_type": "error",
     "traceback": [
      "<interactive>:1:1: error:\n    • No instance for (Num MyInt) arising from a use of ‘+’\n    • In the expression: MkMyInt 1 + MkMyInt 2\n      In an equation for ‘it’: it = MkMyInt 1 + MkMyInt 2"
     ]
    },
    {
     "data": {
      "text/html": [
       "<div style='background: rgb(247, 247, 247);'><form><textarea id='code'>class Eq a => Ord a where\n",
       "  compare :: a -> a -> Ordering\n",
       "  (<) :: a -> a -> Bool\n",
       "  (<=) :: a -> a -> Bool\n",
       "  (>) :: a -> a -> Bool\n",
       "  (>=) :: a -> a -> Bool\n",
       "  max :: a -> a -> a\n",
       "  min :: a -> a -> a\n",
       "  {-# MINIMAL compare | (<=) #-}\n",
       "  \t-- Defined in ‘GHC.Classes’\n",
       "instance [safe] Ord MyInt -- Defined at <interactive>:1:10\n",
       "instance (Ord a, Ord b) => Ord (Either a b) -- Defined in ‘Data.Either’\n",
       "instance Ord IHaskellTH.TypeFamilyHead -- Defined in ‘Language.Haskell.TH.Syntax’\n",
       "instance Ord IHaskellTH.Type -- Defined in ‘Language.Haskell.TH.Syntax’\n",
       "instance Ord IHaskellTH.TyVarBndr -- Defined in ‘Language.Haskell.TH.Syntax’\n",
       "instance Ord IHaskellTH.TySynEqn -- Defined in ‘Language.Haskell.TH.Syntax’\n",
       "instance Ord IHaskellTH.TyLit -- Defined in ‘Language.Haskell.TH.Syntax’\n",
       "instance Ord IHaskellTH.Stmt -- Defined in ‘Language.Haskell.TH.Syntax’\n",
       "instance Ord IHaskellTH.SourceUnpackedness -- Defined in ‘Language.Haskell.TH.Syntax’\n",
       "instance Ord IHaskellTH.SourceStrictness -- Defined in ‘Language.Haskell.TH.Syntax’\n",
       "instance Ord IHaskellTH.Safety -- Defined in ‘Language.Haskell.TH.Syntax’\n",
       "instance Ord IHaskellTH.RuleMatch -- Defined in ‘Language.Haskell.TH.Syntax’\n",
       "instance Ord IHaskellTH.RuleBndr -- Defined in ‘Language.Haskell.TH.Syntax’\n",
       "instance Ord IHaskellTH.Role -- Defined in ‘Language.Haskell.TH.Syntax’\n",
       "instance Ord IHaskellTH.Range -- Defined in ‘Language.Haskell.TH.Syntax’\n",
       "instance Ord IHaskellTH.Pragma -- Defined in ‘Language.Haskell.TH.Syntax’\n",
       "instance Ord IHaskellTH.Phases -- Defined in ‘Language.Haskell.TH.Syntax’\n",
       "instance Ord IHaskellTH.PatSynDir -- Defined in ‘Language.Haskell.TH.Syntax’\n",
       "instance Ord IHaskellTH.PatSynArgs -- Defined in ‘Language.Haskell.TH.Syntax’\n",
       "instance Ord IHaskellTH.Pat -- Defined in ‘Language.Haskell.TH.Syntax’\n",
       "instance Ord IHaskellTH.Overlap -- Defined in ‘Language.Haskell.TH.Syntax’\n",
       "instance Ord IHaskellTH.NameSpace -- Defined in ‘Language.Haskell.TH.Syntax’\n",
       "instance Ord IHaskellTH.Name -- Defined in ‘Language.Haskell.TH.Syntax’\n",
       "instance Ord IHaskellTH.ModuleInfo -- Defined in ‘Language.Haskell.TH.Syntax’\n",
       "instance Ord IHaskellTH.Match -- Defined in ‘Language.Haskell.TH.Syntax’\n",
       "instance Ord IHaskellTH.Loc -- Defined in ‘Language.Haskell.TH.Syntax’\n",
       "instance Ord IHaskellTH.Lit -- Defined in ‘Language.Haskell.TH.Syntax’\n",
       "instance Ord IHaskellTH.Inline -- Defined in ‘Language.Haskell.TH.Syntax’\n",
       "instance Ord IHaskellTH.InjectivityAnn -- Defined in ‘Language.Haskell.TH.Syntax’\n",
       "instance Ord IHaskellTH.Info -- Defined in ‘Language.Haskell.TH.Syntax’\n",
       "instance Ord IHaskellTH.Guard -- Defined in ‘Language.Haskell.TH.Syntax’\n",
       "instance Ord IHaskellTH.FunDep -- Defined in ‘Language.Haskell.TH.Syntax’\n",
       "instance Ord IHaskellTH.Foreign -- Defined in ‘Language.Haskell.TH.Syntax’\n",
       "instance Ord IHaskellTH.FixityDirection -- Defined in ‘Language.Haskell.TH.Syntax’\n",
       "instance Ord IHaskellTH.Fixity -- Defined in ‘Language.Haskell.TH.Syntax’\n",
       "instance Ord IHaskellTH.FamilyResultSig -- Defined in ‘Language.Haskell.TH.Syntax’\n",
       "instance Ord IHaskellTH.Exp -- Defined in ‘Language.Haskell.TH.Syntax’\n",
       "instance Ord IHaskellTH.DerivStrategy -- Defined in ‘Language.Haskell.TH.Syntax’\n",
       "instance Ord IHaskellTH.DerivClause -- Defined in ‘Language.Haskell.TH.Syntax’\n",
       "instance Ord IHaskellTH.DecidedStrictness -- Defined in ‘Language.Haskell.TH.Syntax’\n",
       "instance Ord IHaskellTH.Dec -- Defined in ‘Language.Haskell.TH.Syntax’\n",
       "instance Ord IHaskellTH.Con -- Defined in ‘Language.Haskell.TH.Syntax’\n",
       "instance Ord IHaskellTH.Clause -- Defined in ‘Language.Haskell.TH.Syntax’\n",
       "instance Ord IHaskellTH.Callconv -- Defined in ‘Language.Haskell.TH.Syntax’\n",
       "instance Ord IHaskellTH.Body -- Defined in ‘Language.Haskell.TH.Syntax’\n",
       "instance Ord IHaskellTH.Bang -- Defined in ‘Language.Haskell.TH.Syntax’\n",
       "instance Ord IHaskellTH.AnnTarget -- Defined in ‘Language.Haskell.TH.Syntax’\n",
       "instance Ord IHaskellTH.AnnLookup -- Defined in ‘Language.Haskell.TH.Syntax’\n",
       "instance Ord IHaskellSysIO.NewlineMode -- Defined in ‘GHC.IO.Handle.Types’\n",
       "instance Ord IHaskellSysIO.Newline -- Defined in ‘GHC.IO.Handle.Types’\n",
       "instance Ord IHaskellSysIO.BufferMode -- Defined in ‘GHC.IO.Handle.Types’\n",
       "instance Ord a => Ord [a] -- Defined in ‘GHC.Classes’\n",
       "instance Ord Word -- Defined in ‘GHC.Classes’\n",
       "instance Ord Ordering -- Defined in ‘GHC.Classes’\n",
       "instance Ord Int -- Defined in ‘GHC.Classes’\n",
       "instance Ord Float -- Defined in ‘GHC.Classes’\n",
       "instance Ord Double -- Defined in ‘GHC.Classes’\n",
       "instance Ord Char -- Defined in ‘GHC.Classes’\n",
       "instance Ord Bool -- Defined in ‘GHC.Classes’\n",
       "instance (Ord a, Ord b, Ord c, Ord d, Ord e, Ord f, Ord g, Ord h, Ord i, Ord j, Ord k, Ord l, Ord m, Ord n, Ord o) => Ord (a, b, c, d, e, f, g, h, i, j, k, l, m, n, o) -- Defined in ‘GHC.Classes’\n",
       "instance (Ord a, Ord b, Ord c, Ord d, Ord e, Ord f, Ord g, Ord h, Ord i, Ord j, Ord k, Ord l, Ord m, Ord n) => Ord (a, b, c, d, e, f, g, h, i, j, k, l, m, n) -- Defined in ‘GHC.Classes’\n",
       "instance (Ord a, Ord b, Ord c, Ord d, Ord e, Ord f, Ord g, Ord h, Ord i, Ord j, Ord k, Ord l, Ord m) => Ord (a, b, c, d, e, f, g, h, i, j, k, l, m) -- Defined in ‘GHC.Classes’\n",
       "instance (Ord a, Ord b, Ord c, Ord d, Ord e, Ord f, Ord g, Ord h, Ord i, Ord j, Ord k, Ord l) => Ord (a, b, c, d, e, f, g, h, i, j, k, l) -- Defined in ‘GHC.Classes’\n",
       "instance (Ord a, Ord b, Ord c, Ord d, Ord e, Ord f, Ord g, Ord h, Ord i, Ord j, Ord k) => Ord (a, b, c, d, e, f, g, h, i, j, k) -- Defined in ‘GHC.Classes’\n",
       "instance (Ord a, Ord b, Ord c, Ord d, Ord e, Ord f, Ord g, Ord h, Ord i, Ord j) => Ord (a, b, c, d, e, f, g, h, i, j) -- Defined in ‘GHC.Classes’\n",
       "instance (Ord a, Ord b, Ord c, Ord d, Ord e, Ord f, Ord g, Ord h, Ord i) => Ord (a, b, c, d, e, f, g, h, i) -- Defined in ‘GHC.Classes’\n",
       "instance (Ord a, Ord b, Ord c, Ord d, Ord e, Ord f, Ord g, Ord h) => Ord (a, b, c, d, e, f, g, h) -- Defined in ‘GHC.Classes’\n",
       "instance (Ord a, Ord b, Ord c, Ord d, Ord e, Ord f, Ord g) => Ord (a, b, c, d, e, f, g) -- Defined in ‘GHC.Classes’\n",
       "instance (Ord a, Ord b, Ord c, Ord d, Ord e, Ord f) => Ord (a, b, c, d, e, f) -- Defined in ‘GHC.Classes’\n",
       "instance (Ord a, Ord b, Ord c, Ord d, Ord e) => Ord (a, b, c, d, e) -- Defined in ‘GHC.Classes’\n",
       "instance (Ord a, Ord b, Ord c, Ord d) => Ord (a, b, c, d) -- Defined in ‘GHC.Classes’\n",
       "instance (Ord a, Ord b, Ord c) => Ord (a, b, c) -- Defined in ‘GHC.Classes’\n",
       "instance (Ord a, Ord b) => Ord (a, b) -- Defined in ‘GHC.Classes’\n",
       "instance Ord () -- Defined in ‘GHC.Classes’\n",
       "instance Ord Integer -- Defined in ‘integer-gmp-1.0.2.0:GHC.Integer.Type’\n",
       "instance Ord a => Ord (Maybe a) -- Defined in ‘GHC.Maybe’\n",
       "</textarea></form></div><script>CodeMirror.fromTextArea(document.getElementById('code'), {mode: 'haskell', readOnly: 'nocursor'});</script>"
      ],
      "text/plain": [
       "class Eq a => Ord a where\n",
       "  compare :: a -> a -> Ordering\n",
       "  (<) :: a -> a -> Bool\n",
       "  (<=) :: a -> a -> Bool\n",
       "  (>) :: a -> a -> Bool\n",
       "  (>=) :: a -> a -> Bool\n",
       "  max :: a -> a -> a\n",
       "  min :: a -> a -> a\n",
       "  {-# MINIMAL compare | (<=) #-}\n",
       "  \t-- Defined in ‘GHC.Classes’\n",
       "instance [safe] Ord MyInt -- Defined at <interactive>:1:10\n",
       "instance (Ord a, Ord b) => Ord (Either a b) -- Defined in ‘Data.Either’\n",
       "instance Ord IHaskellTH.TypeFamilyHead -- Defined in ‘Language.Haskell.TH.Syntax’\n",
       "instance Ord IHaskellTH.Type -- Defined in ‘Language.Haskell.TH.Syntax’\n",
       "instance Ord IHaskellTH.TyVarBndr -- Defined in ‘Language.Haskell.TH.Syntax’\n",
       "instance Ord IHaskellTH.TySynEqn -- Defined in ‘Language.Haskell.TH.Syntax’\n",
       "instance Ord IHaskellTH.TyLit -- Defined in ‘Language.Haskell.TH.Syntax’\n",
       "instance Ord IHaskellTH.Stmt -- Defined in ‘Language.Haskell.TH.Syntax’\n",
       "instance Ord IHaskellTH.SourceUnpackedness -- Defined in ‘Language.Haskell.TH.Syntax’\n",
       "instance Ord IHaskellTH.SourceStrictness -- Defined in ‘Language.Haskell.TH.Syntax’\n",
       "instance Ord IHaskellTH.Safety -- Defined in ‘Language.Haskell.TH.Syntax’\n",
       "instance Ord IHaskellTH.RuleMatch -- Defined in ‘Language.Haskell.TH.Syntax’\n",
       "instance Ord IHaskellTH.RuleBndr -- Defined in ‘Language.Haskell.TH.Syntax’\n",
       "instance Ord IHaskellTH.Role -- Defined in ‘Language.Haskell.TH.Syntax’\n",
       "instance Ord IHaskellTH.Range -- Defined in ‘Language.Haskell.TH.Syntax’\n",
       "instance Ord IHaskellTH.Pragma -- Defined in ‘Language.Haskell.TH.Syntax’\n",
       "instance Ord IHaskellTH.Phases -- Defined in ‘Language.Haskell.TH.Syntax’\n",
       "instance Ord IHaskellTH.PatSynDir -- Defined in ‘Language.Haskell.TH.Syntax’\n",
       "instance Ord IHaskellTH.PatSynArgs -- Defined in ‘Language.Haskell.TH.Syntax’\n",
       "instance Ord IHaskellTH.Pat -- Defined in ‘Language.Haskell.TH.Syntax’\n",
       "instance Ord IHaskellTH.Overlap -- Defined in ‘Language.Haskell.TH.Syntax’\n",
       "instance Ord IHaskellTH.NameSpace -- Defined in ‘Language.Haskell.TH.Syntax’\n",
       "instance Ord IHaskellTH.Name -- Defined in ‘Language.Haskell.TH.Syntax’\n",
       "instance Ord IHaskellTH.ModuleInfo -- Defined in ‘Language.Haskell.TH.Syntax’\n",
       "instance Ord IHaskellTH.Match -- Defined in ‘Language.Haskell.TH.Syntax’\n",
       "instance Ord IHaskellTH.Loc -- Defined in ‘Language.Haskell.TH.Syntax’\n",
       "instance Ord IHaskellTH.Lit -- Defined in ‘Language.Haskell.TH.Syntax’\n",
       "instance Ord IHaskellTH.Inline -- Defined in ‘Language.Haskell.TH.Syntax’\n",
       "instance Ord IHaskellTH.InjectivityAnn -- Defined in ‘Language.Haskell.TH.Syntax’\n",
       "instance Ord IHaskellTH.Info -- Defined in ‘Language.Haskell.TH.Syntax’\n",
       "instance Ord IHaskellTH.Guard -- Defined in ‘Language.Haskell.TH.Syntax’\n",
       "instance Ord IHaskellTH.FunDep -- Defined in ‘Language.Haskell.TH.Syntax’\n",
       "instance Ord IHaskellTH.Foreign -- Defined in ‘Language.Haskell.TH.Syntax’\n",
       "instance Ord IHaskellTH.FixityDirection -- Defined in ‘Language.Haskell.TH.Syntax’\n",
       "instance Ord IHaskellTH.Fixity -- Defined in ‘Language.Haskell.TH.Syntax’\n",
       "instance Ord IHaskellTH.FamilyResultSig -- Defined in ‘Language.Haskell.TH.Syntax’\n",
       "instance Ord IHaskellTH.Exp -- Defined in ‘Language.Haskell.TH.Syntax’\n",
       "instance Ord IHaskellTH.DerivStrategy -- Defined in ‘Language.Haskell.TH.Syntax’\n",
       "instance Ord IHaskellTH.DerivClause -- Defined in ‘Language.Haskell.TH.Syntax’\n",
       "instance Ord IHaskellTH.DecidedStrictness -- Defined in ‘Language.Haskell.TH.Syntax’\n",
       "instance Ord IHaskellTH.Dec -- Defined in ‘Language.Haskell.TH.Syntax’\n",
       "instance Ord IHaskellTH.Con -- Defined in ‘Language.Haskell.TH.Syntax’\n",
       "instance Ord IHaskellTH.Clause -- Defined in ‘Language.Haskell.TH.Syntax’\n",
       "instance Ord IHaskellTH.Callconv -- Defined in ‘Language.Haskell.TH.Syntax’\n",
       "instance Ord IHaskellTH.Body -- Defined in ‘Language.Haskell.TH.Syntax’\n",
       "instance Ord IHaskellTH.Bang -- Defined in ‘Language.Haskell.TH.Syntax’\n",
       "instance Ord IHaskellTH.AnnTarget -- Defined in ‘Language.Haskell.TH.Syntax’\n",
       "instance Ord IHaskellTH.AnnLookup -- Defined in ‘Language.Haskell.TH.Syntax’\n",
       "instance Ord IHaskellSysIO.NewlineMode -- Defined in ‘GHC.IO.Handle.Types’\n",
       "instance Ord IHaskellSysIO.Newline -- Defined in ‘GHC.IO.Handle.Types’\n",
       "instance Ord IHaskellSysIO.BufferMode -- Defined in ‘GHC.IO.Handle.Types’\n",
       "instance Ord a => Ord [a] -- Defined in ‘GHC.Classes’\n",
       "instance Ord Word -- Defined in ‘GHC.Classes’\n",
       "instance Ord Ordering -- Defined in ‘GHC.Classes’\n",
       "instance Ord Int -- Defined in ‘GHC.Classes’\n",
       "instance Ord Float -- Defined in ‘GHC.Classes’\n",
       "instance Ord Double -- Defined in ‘GHC.Classes’\n",
       "instance Ord Char -- Defined in ‘GHC.Classes’\n",
       "instance Ord Bool -- Defined in ‘GHC.Classes’\n",
       "instance (Ord a, Ord b, Ord c, Ord d, Ord e, Ord f, Ord g, Ord h, Ord i, Ord j, Ord k, Ord l, Ord m, Ord n, Ord o) => Ord (a, b, c, d, e, f, g, h, i, j, k, l, m, n, o) -- Defined in ‘GHC.Classes’\n",
       "instance (Ord a, Ord b, Ord c, Ord d, Ord e, Ord f, Ord g, Ord h, Ord i, Ord j, Ord k, Ord l, Ord m, Ord n) => Ord (a, b, c, d, e, f, g, h, i, j, k, l, m, n) -- Defined in ‘GHC.Classes’\n",
       "instance (Ord a, Ord b, Ord c, Ord d, Ord e, Ord f, Ord g, Ord h, Ord i, Ord j, Ord k, Ord l, Ord m) => Ord (a, b, c, d, e, f, g, h, i, j, k, l, m) -- Defined in ‘GHC.Classes’\n",
       "instance (Ord a, Ord b, Ord c, Ord d, Ord e, Ord f, Ord g, Ord h, Ord i, Ord j, Ord k, Ord l) => Ord (a, b, c, d, e, f, g, h, i, j, k, l) -- Defined in ‘GHC.Classes’\n",
       "instance (Ord a, Ord b, Ord c, Ord d, Ord e, Ord f, Ord g, Ord h, Ord i, Ord j, Ord k) => Ord (a, b, c, d, e, f, g, h, i, j, k) -- Defined in ‘GHC.Classes’\n",
       "instance (Ord a, Ord b, Ord c, Ord d, Ord e, Ord f, Ord g, Ord h, Ord i, Ord j) => Ord (a, b, c, d, e, f, g, h, i, j) -- Defined in ‘GHC.Classes’\n",
       "instance (Ord a, Ord b, Ord c, Ord d, Ord e, Ord f, Ord g, Ord h, Ord i) => Ord (a, b, c, d, e, f, g, h, i) -- Defined in ‘GHC.Classes’\n",
       "instance (Ord a, Ord b, Ord c, Ord d, Ord e, Ord f, Ord g, Ord h) => Ord (a, b, c, d, e, f, g, h) -- Defined in ‘GHC.Classes’\n",
       "instance (Ord a, Ord b, Ord c, Ord d, Ord e, Ord f, Ord g) => Ord (a, b, c, d, e, f, g) -- Defined in ‘GHC.Classes’\n",
       "instance (Ord a, Ord b, Ord c, Ord d, Ord e, Ord f) => Ord (a, b, c, d, e, f) -- Defined in ‘GHC.Classes’\n",
       "instance (Ord a, Ord b, Ord c, Ord d, Ord e) => Ord (a, b, c, d, e) -- Defined in ‘GHC.Classes’\n",
       "instance (Ord a, Ord b, Ord c, Ord d) => Ord (a, b, c, d) -- Defined in ‘GHC.Classes’\n",
       "instance (Ord a, Ord b, Ord c) => Ord (a, b, c) -- Defined in ‘GHC.Classes’\n",
       "instance (Ord a, Ord b) => Ord (a, b) -- Defined in ‘GHC.Classes’\n",
       "instance Ord () -- Defined in ‘GHC.Classes’\n",
       "instance Ord Integer -- Defined in ‘integer-gmp-1.0.2.0:GHC.Integer.Type’\n",
       "instance Ord a => Ord (Maybe a) -- Defined in ‘GHC.Maybe’"
      ]
     },
     "metadata": {},
     "output_type": "display_data"
    }
   ],
   "source": [
    "MkMyInt 1 <= MkMyInt 2\n",
    "MkMyInt 1 < MkMyInt 2\n",
    "MkMyInt 1 > MkMyInt 2\n",
    "MkMyInt 1 >= MkMyInt 2\n",
    "\n",
    ":i Ord\n",
    "\n",
    "MkMyInt 1 + MkMyInt 2\n",
    ":i Num"
   ]
  },
  {
   "cell_type": "code",
   "execution_count": 20,
   "metadata": {},
   "outputs": [],
   "source": [
    "instance Num MyInt where\n",
    "  (+) (MkMyInt i1) (MkMyInt i2) = MkMyInt (i1 + i2)\n",
    "  (-) (MkMyInt i1) (MkMyInt i2) = MkMyInt (i1 - i2)\n",
    "  (*) (MkMyInt i1) (MkMyInt i2) = MkMyInt (i1 * i2)\n",
    "  negate (MkMyInt i)            = MkMyInt (negate i)\n",
    "  abs (MkMyInt i)               = MkMyInt (abs i)\n",
    "  signum (MkMyInt i)            = MkMyInt (signum i)\n",
    "  fromInteger int               = MkMyInt (fromIntegral int)"
   ]
  },
  {
   "cell_type": "code",
   "execution_count": 21,
   "metadata": {},
   "outputs": [
    {
     "ename": "",
     "evalue": "",
     "header": "MessageHeader {mhIdentifiers = [\"0c6b3230-d1e1-493f-ba42-c11d078c3ac7\"], mhParentHeader = Just (MessageHeader {mhIdentifiers = [\"0c6b3230-d1e1-493f-ba42-c11d078c3ac7\"], mhParentHeader = Nothing, mhMetadata = Metadata (fromList [(\"recordTiming\",Bool False),(\"deletedCells\",Array [String \"e694ec73-0954-45ba-828e-c69527ef0ac6\",String \"c18c4c00-0f33-4f15-b490-a39f1518e5cb\"]),(\"cellId\",String \"b6557834-796b-4d1b-a3b4-046a14d138e7\")]), mhMessageId = UUID {uuidToString = \"0625f656-a5c9-4188-a3dc-1f41b3cbcd45\"}, mhSessionId = UUID {uuidToString = \"0c6b3230-d1e1-493f-ba42-c11d078c3ac7\"}, mhUsername = \"\", mhMsgType = ExecuteRequestMessage, mhBuffers = []}), mhMetadata = Metadata (fromList []), mhMessageId = UUID {uuidToString = \"4443d723-0d4f-47d5-b623-f96ffbc49231\"}, mhSessionId = UUID {uuidToString = \"0c6b3230-d1e1-493f-ba42-c11d078c3ac7\"}, mhUsername = \"\", mhMsgType = ExecuteErrorMessage, mhBuffers = []}",
     "output_type": "error",
     "traceback": [
      "<interactive>:1:1: error:\n    • No instance for (Show MyInt) arising from a use of ‘print’\n    • In a stmt of an interactive GHCi command: print it"
     ]
    }
   ],
   "source": [
    "MkMyInt 1 + MkMyInt 2\n",
    "\n",
    "MkMyInt 1\n",
    ":i Show"
   ]
  },
  {
   "cell_type": "code",
   "execution_count": 22,
   "metadata": {},
   "outputs": [],
   "source": [
    "instance Show MyInt where\n",
    "  show (MkMyInt i) = \"MkMyInt \" ++ show i"
   ]
  },
  {
   "cell_type": "code",
   "execution_count": 23,
   "metadata": {},
   "outputs": [
    {
     "data": {
      "text/html": [
       "<style>/* Styles used for the Hoogle display in the pager */\n",
       ".hoogle-doc {\n",
       "display: block;\n",
       "padding-bottom: 1.3em;\n",
       "padding-left: 0.4em;\n",
       "}\n",
       ".hoogle-code {\n",
       "display: block;\n",
       "font-family: monospace;\n",
       "white-space: pre;\n",
       "}\n",
       ".hoogle-text {\n",
       "display: block;\n",
       "}\n",
       ".hoogle-name {\n",
       "color: green;\n",
       "font-weight: bold;\n",
       "}\n",
       ".hoogle-head {\n",
       "font-weight: bold;\n",
       "}\n",
       ".hoogle-sub {\n",
       "display: block;\n",
       "margin-left: 0.4em;\n",
       "}\n",
       ".hoogle-package {\n",
       "font-weight: bold;\n",
       "font-style: italic;\n",
       "}\n",
       ".hoogle-module {\n",
       "font-weight: bold;\n",
       "}\n",
       ".hoogle-class {\n",
       "font-weight: bold;\n",
       "}\n",
       ".get-type {\n",
       "color: green;\n",
       "font-weight: bold;\n",
       "font-family: monospace;\n",
       "display: block;\n",
       "white-space: pre-wrap;\n",
       "}\n",
       ".show-type {\n",
       "color: green;\n",
       "font-weight: bold;\n",
       "font-family: monospace;\n",
       "margin-left: 1em;\n",
       "}\n",
       ".mono {\n",
       "font-family: monospace;\n",
       "display: block;\n",
       "}\n",
       ".err-msg {\n",
       "color: red;\n",
       "font-style: italic;\n",
       "font-family: monospace;\n",
       "white-space: pre;\n",
       "display: block;\n",
       "}\n",
       "#unshowable {\n",
       "color: red;\n",
       "font-weight: bold;\n",
       "}\n",
       ".err-msg.in.collapse {\n",
       "padding-top: 0.7em;\n",
       "}\n",
       ".highlight-code {\n",
       "white-space: pre;\n",
       "font-family: monospace;\n",
       "}\n",
       ".suggestion-warning { \n",
       "font-weight: bold;\n",
       "color: rgb(200, 130, 0);\n",
       "}\n",
       ".suggestion-error { \n",
       "font-weight: bold;\n",
       "color: red;\n",
       "}\n",
       ".suggestion-name {\n",
       "font-weight: bold;\n",
       "}\n",
       "</style><div class=\"suggestion-name\" style=\"clear:both;\">Redundant bracket</div><div class=\"suggestion-row\" style=\"float: left;\"><div class=\"suggestion-warning\">Found:</div><div class=\"highlight-code\" id=\"haskell\">(MkMyInt 2) * (MkMyInt 3 + MkMyInt 4)</div></div><div class=\"suggestion-row\" style=\"float: left;\"><div class=\"suggestion-warning\">Why Not:</div><div class=\"highlight-code\" id=\"haskell\">MkMyInt 2 * (MkMyInt 3 + MkMyInt 4)</div></div><div class=\"suggestion-name\" style=\"clear:both;\">Redundant bracket</div><div class=\"suggestion-row\" style=\"float: left;\"><div class=\"suggestion-warning\">Found:</div><div class=\"highlight-code\" id=\"haskell\">(MkMyInt 5) ^ 2</div></div><div class=\"suggestion-row\" style=\"float: left;\"><div class=\"suggestion-warning\">Why Not:</div><div class=\"highlight-code\" id=\"haskell\">MkMyInt 5 ^ 2</div></div>"
      ],
      "text/plain": [
       "Line 3: Redundant bracket\n",
       "Found:\n",
       "(MkMyInt 2) * (MkMyInt 3 + MkMyInt 4)\n",
       "Why not:\n",
       "MkMyInt 2 * (MkMyInt 3 + MkMyInt 4)Line 5: Redundant bracket\n",
       "Found:\n",
       "(MkMyInt 5) ^ 2\n",
       "Why not:\n",
       "MkMyInt 5 ^ 2"
      ]
     },
     "metadata": {},
     "output_type": "display_data"
    },
    {
     "data": {
      "text/plain": [
       "MkMyInt 3"
      ]
     },
     "metadata": {},
     "output_type": "display_data"
    },
    {
     "data": {
      "text/plain": [
       "MkMyInt 5"
      ]
     },
     "metadata": {},
     "output_type": "display_data"
    },
    {
     "data": {
      "text/plain": [
       "MkMyInt 14"
      ]
     },
     "metadata": {},
     "output_type": "display_data"
    },
    {
     "data": {
      "text/plain": [
       "MkMyInt 25"
      ]
     },
     "metadata": {},
     "output_type": "display_data"
    },
    {
     "ename": "",
     "evalue": "",
     "header": "MessageHeader {mhIdentifiers = [\"0c6b3230-d1e1-493f-ba42-c11d078c3ac7\"], mhParentHeader = Just (MessageHeader {mhIdentifiers = [\"0c6b3230-d1e1-493f-ba42-c11d078c3ac7\"], mhParentHeader = Nothing, mhMetadata = Metadata (fromList [(\"recordTiming\",Bool False),(\"deletedCells\",Array [String \"e694ec73-0954-45ba-828e-c69527ef0ac6\",String \"c18c4c00-0f33-4f15-b490-a39f1518e5cb\"]),(\"cellId\",String \"8ec44f99-0df5-4a41-907e-7c55e756acd6\")]), mhMessageId = UUID {uuidToString = \"5aeeb0b0-d03d-45da-bfa8-504f8713753e\"}, mhSessionId = UUID {uuidToString = \"0c6b3230-d1e1-493f-ba42-c11d078c3ac7\"}, mhUsername = \"\", mhMsgType = ExecuteRequestMessage, mhBuffers = []}), mhMetadata = Metadata (fromList []), mhMessageId = UUID {uuidToString = \"2bccaa9a-96fa-4aa2-add0-65b929fe5d42\"}, mhSessionId = UUID {uuidToString = \"0c6b3230-d1e1-493f-ba42-c11d078c3ac7\"}, mhUsername = \"\", mhMsgType = ExecuteErrorMessage, mhBuffers = []}",
     "output_type": "error",
     "traceback": [
      "<interactive>:1:1: error:\n    • No instance for (Integral MyInt) arising from a use of ‘div’\n    • In the expression: MkMyInt 1 `div` MkMyInt 2\n      In an equation for ‘it’: it = MkMyInt 1 `div` MkMyInt 2"
     ]
    }
   ],
   "source": [
    "MkMyInt 1 + MkMyInt 2\n",
    "MkMyInt 5\n",
    "(MkMyInt 2) * (MkMyInt 3 + MkMyInt 4)\n",
    "\n",
    "(MkMyInt 5) ^ 2\n",
    "MkMyInt 1 `div` MkMyInt 2"
   ]
  },
  {
   "cell_type": "markdown",
   "metadata": {},
   "source": [
    "### 5.6.2"
   ]
  },
  {
   "cell_type": "markdown",
   "metadata": {},
   "source": [
    "Trochę kusi, żeby zrobić `(==) a b = show a == show b` ;-)"
   ]
  },
  {
   "cell_type": "code",
   "execution_count": 24,
   "metadata": {},
   "outputs": [],
   "source": [
    "instance Eq a => Eq (BinTree a) where\n",
    "  (==) EmptyBT EmptyBT = True\n",
    "  (==) EmptyBT _ = False\n",
    "  (==) _ EmptyBT = False\n",
    "  (==) (NodeBT n1 lt1 rt1) (NodeBT n2 lt2 rt2) = n1 == n2 && lt1 == lt2 && rt1 == rt2"
   ]
  },
  {
   "cell_type": "code",
   "execution_count": 25,
   "metadata": {},
   "outputs": [
    {
     "data": {
      "text/plain": [
       "{{∅<-1->∅}<-2->{∅<-3->∅}}"
      ]
     },
     "metadata": {},
     "output_type": "display_data"
    },
    {
     "data": {
      "text/plain": [
       "{{∅<-1->∅}<-2->{∅<-3->∅}}"
      ]
     },
     "metadata": {},
     "output_type": "display_data"
    },
    {
     "data": {
      "text/plain": [
       "{{∅<-2->∅}<-3->{∅<-3->∅}}"
      ]
     },
     "metadata": {},
     "output_type": "display_data"
    },
    {
     "data": {
      "text/plain": [
       "True"
      ]
     },
     "metadata": {},
     "output_type": "display_data"
    },
    {
     "data": {
      "text/plain": [
       "False"
      ]
     },
     "metadata": {},
     "output_type": "display_data"
    },
    {
     "data": {
      "text/plain": [
       "False"
      ]
     },
     "metadata": {},
     "output_type": "display_data"
    }
   ],
   "source": [
    "a = list2BST [2, 1, 3]\n",
    "b = list2BST [3, 2, 1]\n",
    "c = list2BST [3, 3, 2]\n",
    "a\n",
    "b\n",
    "c\n",
    "a == b\n",
    "a == c\n",
    "b == c"
   ]
  },
  {
   "cell_type": "markdown",
   "metadata": {},
   "source": [
    "## 7) Moduły i importy"
   ]
  },
  {
   "cell_type": "markdown",
   "metadata": {},
   "source": [
    "### 7.6.1"
   ]
  },
  {
   "cell_type": "markdown",
   "metadata": {},
   "source": [
    "Przećwiczone poza Jupyterem (w GHCI)"
   ]
  }
 ],
 "metadata": {
  "kernelspec": {
   "display_name": "Haskell",
   "language": "haskell",
   "name": "haskell"
  },
  "language_info": {
   "codemirror_mode": "ihaskell",
   "file_extension": ".hs",
   "name": "haskell",
   "pygments_lexer": "Haskell",
   "version": "8.6.5"
  }
 },
 "nbformat": 4,
 "nbformat_minor": 4
}
