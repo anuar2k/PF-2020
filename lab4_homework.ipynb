{
 "cells": [
  {
   "cell_type": "markdown",
   "metadata": {},
   "source": [
    "## 1) Typy w Haskellu: *type vs. newtype*"
   ]
  },
  {
   "cell_type": "markdown",
   "metadata": {},
   "source": [
    "### 1.5.1"
   ]
  },
  {
   "cell_type": "code",
   "execution_count": 1,
   "metadata": {},
   "outputs": [],
   "source": [
    "newtype CartesianCoord a = MkCartesianCoord (a, a) deriving (Show)\n",
    "newtype PolarCoord a = MkPolarCoord (a, a) deriving (Show)\n",
    "  \n",
    "polarToCartesian :: Floating a => PolarCoord a -> CartesianCoord a\n",
    "polarToCartesian (MkPolarCoord (r, phi)) = MkCartesianCoord (r * cos phi, r * sin phi)"
   ]
  },
  {
   "cell_type": "code",
   "execution_count": 2,
   "metadata": {},
   "outputs": [],
   "source": [
    "okType = MkPolarCoord (1, pi)\n",
    "res1 = polarToCartesian okType"
   ]
  },
  {
   "cell_type": "code",
   "execution_count": 3,
   "metadata": {},
   "outputs": [
    {
     "data": {
      "text/plain": [
       "MkCartesianCoord (-1.0,1.2246467991473532e-16)"
      ]
     },
     "metadata": {},
     "output_type": "display_data"
    }
   ],
   "source": [
    "res1"
   ]
  },
  {
   "cell_type": "code",
   "execution_count": 4,
   "metadata": {},
   "outputs": [
    {
     "ename": "",
     "evalue": "",
     "header": "MessageHeader {mhIdentifiers = [\"d8996f04-c27a-49b2-b5f9-4654e8b0b06c\"], mhParentHeader = Just (MessageHeader {mhIdentifiers = [\"d8996f04-c27a-49b2-b5f9-4654e8b0b06c\"], mhParentHeader = Nothing, mhMetadata = Metadata (fromList [(\"recordTiming\",Bool False),(\"deletedCells\",Array []),(\"cellId\",String \"e0187e6c-aafe-450a-bc53-e6c4053c7c6c\")]), mhMessageId = UUID {uuidToString = \"e23355e0-9048-4ba2-85b7-96d9a658fd8b\"}, mhSessionId = UUID {uuidToString = \"d8996f04-c27a-49b2-b5f9-4654e8b0b06c\"}, mhUsername = \"\", mhMsgType = ExecuteRequestMessage, mhBuffers = []}), mhMetadata = Metadata (fromList []), mhMessageId = UUID {uuidToString = \"29d880ab-c281-4e54-a643-1a708244d00c\"}, mhSessionId = UUID {uuidToString = \"d8996f04-c27a-49b2-b5f9-4654e8b0b06c\"}, mhUsername = \"\", mhMsgType = ExecuteErrorMessage, mhBuffers = []}",
     "output_type": "error",
     "traceback": [
      "<interactive>:2:25: error:\n    • Couldn't match expected type ‘PolarCoord a’ with actual type ‘(Integer, Integer)’\n    • In the first argument of ‘polarToCartesian’, namely ‘wrongType’\n      In the expression: polarToCartesian wrongType\n      In an equation for ‘res2’: res2 = polarToCartesian wrongType\n    • Relevant bindings include res2 :: CartesianCoord a (bound at <interactive>:2:1)"
     ]
    }
   ],
   "source": [
    "wrongType = (1, 2)\n",
    "res2 = polarToCartesian wrongType"
   ]
  },
  {
   "cell_type": "code",
   "execution_count": 5,
   "metadata": {},
   "outputs": [
    {
     "ename": "",
     "evalue": "",
     "header": "MessageHeader {mhIdentifiers = [\"d8996f04-c27a-49b2-b5f9-4654e8b0b06c\"], mhParentHeader = Just (MessageHeader {mhIdentifiers = [\"d8996f04-c27a-49b2-b5f9-4654e8b0b06c\"], mhParentHeader = Nothing, mhMetadata = Metadata (fromList [(\"recordTiming\",Bool False),(\"deletedCells\",Array []),(\"cellId\",String \"91b39814-7c69-44c1-96f8-a08e0d7055cd\")]), mhMessageId = UUID {uuidToString = \"a715e90e-6919-4791-a1df-74e3f9168e85\"}, mhSessionId = UUID {uuidToString = \"d8996f04-c27a-49b2-b5f9-4654e8b0b06c\"}, mhUsername = \"\", mhMsgType = ExecuteRequestMessage, mhBuffers = []}), mhMetadata = Metadata (fromList []), mhMessageId = UUID {uuidToString = \"e8b9c655-bedb-4404-a053-37138b7acbc8\"}, mhSessionId = UUID {uuidToString = \"d8996f04-c27a-49b2-b5f9-4654e8b0b06c\"}, mhUsername = \"\", mhMsgType = ExecuteErrorMessage, mhBuffers = []}",
     "output_type": "error",
     "traceback": [
      "<interactive>:2:25: error:\n    • Couldn't match expected type ‘PolarCoord a’ with actual type ‘CartesianCoord Integer’\n    • In the first argument of ‘polarToCartesian’, namely ‘wrongType2’\n      In the expression: polarToCartesian wrongType2\n      In an equation for ‘res3’: res3 = polarToCartesian wrongType2\n    • Relevant bindings include res3 :: CartesianCoord a (bound at <interactive>:2:1)"
     ]
    }
   ],
   "source": [
    "wrongType2 = MkCartesianCoord (1, 2)\n",
    "res3 = polarToCartesian wrongType2"
   ]
  },
  {
   "cell_type": "markdown",
   "metadata": {},
   "source": [
    "Taka implementacja pozwala na łatwe odróżnienie koordynatów kartezjańskich i polarnych; gwarantuje, że nie zaaplikujemy funkcji do argumentów złego typu - za każdym razem, kiedy zechcemy utworzyć punkt o koordynatach polarnych będziemy musieli to robić świadomie korzystajac z `MkPolarCoord`"
   ]
  },
  {
   "cell_type": "markdown",
   "metadata": {},
   "source": [
    "## 2) Algebraiczne typy danych 1: product & sum types, record syntax"
   ]
  },
  {
   "cell_type": "markdown",
   "metadata": {},
   "source": [
    "### 2.7.1"
   ]
  },
  {
   "cell_type": "code",
   "execution_count": 6,
   "metadata": {},
   "outputs": [
    {
     "data": {
      "text/plain": [
       "1"
      ]
     },
     "metadata": {},
     "output_type": "display_data"
    },
    {
     "data": {
      "text/plain": [
       "2"
      ]
     },
     "metadata": {},
     "output_type": "display_data"
    },
    {
     "data": {
      "text/plain": [
       "3"
      ]
     },
     "metadata": {},
     "output_type": "display_data"
    },
    {
     "data": {
      "text/plain": [
       "4"
      ]
     },
     "metadata": {},
     "output_type": "display_data"
    },
    {
     "data": {
      "text/plain": [
       "2"
      ]
     },
     "metadata": {},
     "output_type": "display_data"
    },
    {
     "data": {
      "text/plain": [
       "0"
      ]
     },
     "metadata": {},
     "output_type": "display_data"
    }
   ],
   "source": [
    "data Cart3DVec a = Cart3DVec a a a\n",
    "\n",
    "xCoord3D (Cart3DVec x _ _) = x\n",
    "yCoord3D (Cart3DVec _ y _) = y\n",
    "zCoord3D (Cart3DVec _ _ z) = z\n",
    "\n",
    "coord1 = Cart3DVec 1 2 3\n",
    "\n",
    "xCoord3D coord1\n",
    "yCoord3D coord1\n",
    "zCoord3D coord1\n",
    "\n",
    "data Cart3DVec' a = Cart3DVec' {x::a, y::a, z::a}\n",
    "\n",
    "coord2 = Cart3DVec' 4 2 0\n",
    "\n",
    "x coord2\n",
    "y coord2\n",
    "z coord2"
   ]
  },
  {
   "cell_type": "markdown",
   "metadata": {},
   "source": [
    "### 2.7.6"
   ]
  },
  {
   "cell_type": "code",
   "execution_count": 7,
   "metadata": {},
   "outputs": [
    {
     "data": {
      "text/plain": [
       "6.2831855"
      ]
     },
     "metadata": {},
     "output_type": "display_data"
    },
    {
     "data": {
      "text/plain": [
       "8.0"
      ]
     },
     "metadata": {},
     "output_type": "display_data"
    }
   ],
   "source": [
    "data Shape = Circle Float | Rectangle Float Float\n",
    "area :: Shape -> Float\n",
    "area (Circle r) = pi * r * r\n",
    "area (Rectangle a b) = a * b\n",
    "\n",
    "shape1 = Circle $ sqrt 2\n",
    "shape2 = Rectangle 4 2\n",
    "\n",
    "area shape1\n",
    "area shape2"
   ]
  },
  {
   "cell_type": "markdown",
   "metadata": {},
   "source": [
    "### 2.7.7"
   ]
  },
  {
   "cell_type": "code",
   "execution_count": 8,
   "metadata": {},
   "outputs": [
    {
     "data": {
      "text/plain": [
       "\"hold on\""
      ]
     },
     "metadata": {},
     "output_type": "display_data"
    },
    {
     "data": {
      "text/plain": [
       "\"pedal to the metal or you won't make it\""
      ]
     },
     "metadata": {},
     "output_type": "display_data"
    }
   ],
   "source": [
    "data TrafficLights = Red | RedYellow | Yellow | Green\n",
    "actionFor :: TrafficLights -> String\n",
    "\n",
    "actionFor Red = \"hold on\"\n",
    "actionFor RedYellow = \"launch control\"\n",
    "actionFor Yellow = \"pedal to the metal or you won't make it\"\n",
    "actionFor Green = \"good to go\"\n",
    "\n",
    "actionFor Red\n",
    "actionFor Yellow"
   ]
  },
  {
   "cell_type": "markdown",
   "metadata": {},
   "source": [
    "## 3) Algebraiczne typy danych 2: rekursja strukturalna"
   ]
  },
  {
   "cell_type": "markdown",
   "metadata": {},
   "source": [
    "### 3.4.1"
   ]
  },
  {
   "cell_type": "code",
   "execution_count": 9,
   "metadata": {},
   "outputs": [],
   "source": [
    "data BinTree a = EmptyBT | NodeBT a (BinTree a) (BinTree a)\n",
    "\n",
    "instance (Show a) => Show (BinTree a) where\n",
    "  show EmptyBT = \"∅\"\n",
    "  show (NodeBT n lt rt) = \"{\" ++ show lt ++ \"<-\" ++ show n ++ \"->\" ++ show rt ++ \"}\"\n",
    "\n",
    "tree = NodeBT 2 (NodeBT 2 EmptyBT EmptyBT) (NodeBT 3 EmptyBT EmptyBT)"
   ]
  },
  {
   "cell_type": "code",
   "execution_count": 10,
   "metadata": {},
   "outputs": [],
   "source": [
    "depthOfBT :: BinTree a -> Int\n",
    "depthOfBT EmptyBT = 0\n",
    "depthOfBT (NodeBT _ lt rt) = 1 + max (depthOfBT lt) (depthOfBT rt)\n",
    "\n",
    "flattenBTPre :: BinTree a -> [a]\n",
    "flattenBTPre EmptyBT = []\n",
    "flattenBTPre (NodeBT n lt rt) = [n] ++ flattenBTPre lt ++ flattenBTPre rt\n",
    "\n",
    "flattenBTIn :: BinTree a -> [a]\n",
    "flattenBTIn EmptyBT = []\n",
    "flattenBTIn (NodeBT n lt rt) = flattenBTIn lt ++ [n] ++ flattenBTIn rt\n",
    "\n",
    "flattenBTPost :: BinTree a -> [a]\n",
    "flattenBTPost EmptyBT = []\n",
    "flattenBTPost (NodeBT n lt rt) = flattenBTPost lt ++ flattenBTPost rt  ++ [n]\n",
    "\n",
    "mapBT :: (a -> b) -> BinTree a -> BinTree b\n",
    "mapBT _ EmptyBT = EmptyBT\n",
    "mapBT f (NodeBT n lt rt) = NodeBT (f n) (mapBT f lt) (mapBT f rt)\n",
    "\n",
    "insert :: Ord a => a -> BinTree a -> BinTree a\n",
    "insert n EmptyBT = NodeBT n EmptyBT EmptyBT\n",
    "insert n (NodeBT curr lt rt)\n",
    "  | n <= curr = NodeBT curr (insert n lt) rt\n",
    "  | otherwise = NodeBT curr lt (insert n rt)\n",
    "\n",
    "import Data.List\n",
    "list2BST :: Ord a => [a] -> BinTree a\n",
    "list2BST list = internal $ sort list\n",
    "  where internal [] = EmptyBT\n",
    "        internal xs = NodeBT m (internal l) (internal r)\n",
    "          where (l, (m:r)) = splitAt (length xs `div` 2) xs"
   ]
  },
  {
   "cell_type": "code",
   "execution_count": 11,
   "metadata": {},
   "outputs": [
    {
     "data": {
      "text/plain": [
       "[4,2,1,3,6,5,7]"
      ]
     },
     "metadata": {},
     "output_type": "display_data"
    },
    {
     "data": {
      "text/plain": [
       "[1,2,3,4,5,6,7]"
      ]
     },
     "metadata": {},
     "output_type": "display_data"
    },
    {
     "data": {
      "text/plain": [
       "[1,3,2,5,7,6,4]"
      ]
     },
     "metadata": {},
     "output_type": "display_data"
    },
    {
     "data": {
      "text/plain": [
       "[2,2,1,3]"
      ]
     },
     "metadata": {},
     "output_type": "display_data"
    },
    {
     "data": {
      "text/plain": [
       "{{{{∅<-1->∅}<-2->∅}<-2->∅}<-2->{∅<-3->{∅<-5->∅}}}"
      ]
     },
     "metadata": {},
     "output_type": "display_data"
    },
    {
     "data": {
      "text/plain": [
       "{{{∅<-1->∅}<-2->{∅<-3->∅}}<-4->{{∅<-5->∅}<-6->{∅<-7->∅}}}"
      ]
     },
     "metadata": {},
     "output_type": "display_data"
    }
   ],
   "source": [
    "flattenBTPre $ list2BST [1, 2, 3, 4, 5, 6, 7]\n",
    "flattenBTIn $ list2BST [1, 2, 3, 4, 5, 6, 7]\n",
    "flattenBTPost $ list2BST [1, 2, 3, 4, 5, 6, 7]\n",
    "flattenBTPre $ insert 1 tree\n",
    "insert 5 $ insert 1 $ insert 2 tree\n",
    "list2BST [7, 6, 5, 4, 3, 2, 1]"
   ]
  },
  {
   "cell_type": "markdown",
   "metadata": {},
   "source": [
    "### 3.4.6"
   ]
  },
  {
   "cell_type": "code",
   "execution_count": 12,
   "metadata": {},
   "outputs": [],
   "source": [
    "data Expr a = Lit a | \n",
    "              Add (Expr a) (Expr a) |\n",
    "              Sub (Expr a) (Expr a) |\n",
    "              Mul (Expr a) (Expr a)\n",
    "\n",
    "eval :: Num a => Expr a -> a\n",
    "eval (Lit n) = n\n",
    "eval (Add e1 e2) = eval e1 + eval e2\n",
    "eval (Sub e1 e2) = eval e1 - eval e2\n",
    "eval (Mul e1 e2) = eval e1 * eval e2\n",
    "\n",
    "instance (Show a) => Show (Expr a) where\n",
    "  show (Lit n) = show n\n",
    "  show (Add e1 e2) = \"(\" ++ show e1 ++ \"+\" ++ show e2 ++ \")\"\n",
    "  show (Sub e1 e2) = \"(\" ++ show e1 ++ \"-\" ++ show e2 ++ \")\"\n",
    "  show (Mul e1 e2) = \"(\" ++ show e1 ++ \"*\" ++ show e2 ++ \")\""
   ]
  },
  {
   "cell_type": "code",
   "execution_count": 13,
   "metadata": {},
   "outputs": [
    {
     "data": {
      "text/plain": [
       "(((3+5)*(3-1))-10)"
      ]
     },
     "metadata": {},
     "output_type": "display_data"
    },
    {
     "data": {
      "text/plain": [
       "6"
      ]
     },
     "metadata": {},
     "output_type": "display_data"
    }
   ],
   "source": [
    "expr = Sub (Mul (Add (Lit 3) (Lit 5)) (Sub (Lit 3) (Lit 1))) (Lit 10)\n",
    "expr\n",
    "eval expr"
   ]
  },
  {
   "cell_type": "markdown",
   "metadata": {},
   "source": [
    "## 5) Klasy typów i ich instancje 1: dołączanie typu do istniejącej klasy"
   ]
  },
  {
   "cell_type": "markdown",
   "metadata": {},
   "source": [
    "### 5.6.1"
   ]
  },
  {
   "cell_type": "code",
   "execution_count": 14,
   "metadata": {},
   "outputs": [],
   "source": [
    "newtype MyInt = MkMyInt Int"
   ]
  },
  {
   "cell_type": "code",
   "execution_count": 15,
   "metadata": {},
   "outputs": [
    {
     "ename": "",
     "evalue": "",
     "header": "MessageHeader {mhIdentifiers = [\"d8996f04-c27a-49b2-b5f9-4654e8b0b06c\"], mhParentHeader = Just (MessageHeader {mhIdentifiers = [\"d8996f04-c27a-49b2-b5f9-4654e8b0b06c\"], mhParentHeader = Nothing, mhMetadata = Metadata (fromList [(\"recordTiming\",Bool False),(\"deletedCells\",Array []),(\"cellId\",String \"d0595554-ebbe-4efa-9f48-8e6f37c68192\")]), mhMessageId = UUID {uuidToString = \"25ba7149-ca7e-47b8-929e-57820646e29f\"}, mhSessionId = UUID {uuidToString = \"d8996f04-c27a-49b2-b5f9-4654e8b0b06c\"}, mhUsername = \"\", mhMsgType = ExecuteRequestMessage, mhBuffers = []}), mhMetadata = Metadata (fromList []), mhMessageId = UUID {uuidToString = \"8d17d635-8759-438e-a422-b690324b471f\"}, mhSessionId = UUID {uuidToString = \"d8996f04-c27a-49b2-b5f9-4654e8b0b06c\"}, mhUsername = \"\", mhMsgType = ExecuteErrorMessage, mhBuffers = []}",
     "output_type": "error",
     "traceback": [
      "<interactive>:1:1: error:\n    • No instance for (Eq MyInt) arising from a use of ‘==’\n    • In the expression: MkMyInt 1 == MkMyInt 1\n      In an equation for ‘it’: it = MkMyInt 1 == MkMyInt 1"
     ]
    }
   ],
   "source": [
    "MkMyInt 1 == MkMyInt 1"
   ]
  },
  {
   "cell_type": "code",
   "execution_count": 16,
   "metadata": {},
   "outputs": [],
   "source": [
    "instance Eq MyInt where\n",
    "  (==) (MkMyInt i1) (MkMyInt i2) = i1 == i2"
   ]
  },
  {
   "cell_type": "code",
   "execution_count": 17,
   "metadata": {},
   "outputs": [
    {
     "data": {
      "text/plain": [
       "True"
      ]
     },
     "metadata": {},
     "output_type": "display_data"
    },
    {
     "data": {
      "text/plain": [
       "False"
      ]
     },
     "metadata": {},
     "output_type": "display_data"
    },
    {
     "data": {
      "text/plain": [
       "True"
      ]
     },
     "metadata": {},
     "output_type": "display_data"
    },
    {
     "ename": "",
     "evalue": "",
     "header": "MessageHeader {mhIdentifiers = [\"d8996f04-c27a-49b2-b5f9-4654e8b0b06c\"], mhParentHeader = Just (MessageHeader {mhIdentifiers = [\"d8996f04-c27a-49b2-b5f9-4654e8b0b06c\"], mhParentHeader = Nothing, mhMetadata = Metadata (fromList [(\"recordTiming\",Bool False),(\"deletedCells\",Array []),(\"cellId\",String \"6ab0ec69-b902-41cf-8c63-17564d7d9ef0\")]), mhMessageId = UUID {uuidToString = \"e9714a2d-c2de-4bfe-bdd0-b1351013413c\"}, mhSessionId = UUID {uuidToString = \"d8996f04-c27a-49b2-b5f9-4654e8b0b06c\"}, mhUsername = \"\", mhMsgType = ExecuteRequestMessage, mhBuffers = []}), mhMetadata = Metadata (fromList []), mhMessageId = UUID {uuidToString = \"44fc0b7c-33df-4895-8a4a-c21ad86edc09\"}, mhSessionId = UUID {uuidToString = \"d8996f04-c27a-49b2-b5f9-4654e8b0b06c\"}, mhUsername = \"\", mhMsgType = ExecuteErrorMessage, mhBuffers = []}",
     "output_type": "error",
     "traceback": [
      "<interactive>:1:1: error:\n    • No instance for (Ord MyInt) arising from a use of ‘<’\n    • In the expression: MkMyInt 1 < MkMyInt 2\n      In an equation for ‘it’: it = MkMyInt 1 < MkMyInt 2"
     ]
    }
   ],
   "source": [
    "MkMyInt 1 == MkMyInt 1\n",
    "MkMyInt 1 == MkMyInt 2\n",
    "MkMyInt 1 /= MkMyInt 2\n",
    "MkMyInt 1 < MkMyInt 2"
   ]
  },
  {
   "cell_type": "code",
   "execution_count": 18,
   "metadata": {},
   "outputs": [],
   "source": [
    "instance Ord MyInt where\n",
    "  (<=) (MkMyInt i1) (MkMyInt i2) = i1 <= i2"
   ]
  },
  {
   "cell_type": "code",
   "execution_count": 19,
   "metadata": {},
   "outputs": [
    {
     "data": {
      "text/plain": [
       "True"
      ]
     },
     "metadata": {},
     "output_type": "display_data"
    },
    {
     "data": {
      "text/plain": [
       "True"
      ]
     },
     "metadata": {},
     "output_type": "display_data"
    },
    {
     "data": {
      "text/plain": [
       "False"
      ]
     },
     "metadata": {},
     "output_type": "display_data"
    },
    {
     "data": {
      "text/plain": [
       "False"
      ]
     },
     "metadata": {},
     "output_type": "display_data"
    },
    {
     "data": {},
     "metadata": {},
     "output_type": "display_data"
    },
    {
     "ename": "",
     "evalue": "",
     "header": "MessageHeader {mhIdentifiers = [\"d8996f04-c27a-49b2-b5f9-4654e8b0b06c\"], mhParentHeader = Just (MessageHeader {mhIdentifiers = [\"d8996f04-c27a-49b2-b5f9-4654e8b0b06c\"], mhParentHeader = Nothing, mhMetadata = Metadata (fromList [(\"recordTiming\",Bool False),(\"deletedCells\",Array []),(\"cellId\",String \"f1995851-979d-4864-8635-f4f7d5b7474e\")]), mhMessageId = UUID {uuidToString = \"f5a33767-5a45-40f4-96fb-678f7f8e9226\"}, mhSessionId = UUID {uuidToString = \"d8996f04-c27a-49b2-b5f9-4654e8b0b06c\"}, mhUsername = \"\", mhMsgType = ExecuteRequestMessage, mhBuffers = []}), mhMetadata = Metadata (fromList []), mhMessageId = UUID {uuidToString = \"4bac50f6-af93-43f9-a683-6a035584ecdd\"}, mhSessionId = UUID {uuidToString = \"d8996f04-c27a-49b2-b5f9-4654e8b0b06c\"}, mhUsername = \"\", mhMsgType = ExecuteErrorMessage, mhBuffers = []}",
     "output_type": "error",
     "traceback": [
      "<interactive>:1:1: error:\n    • No instance for (Num MyInt) arising from a use of ‘+’\n    • In the expression: MkMyInt 1 + MkMyInt 2\n      In an equation for ‘it’: it = MkMyInt 1 + MkMyInt 2"
     ]
    },
    {
     "data": {
      "text/html": [
       "<div style='background: rgb(247, 247, 247);'><form><textarea id='code'>class Eq a => Ord a where\n",
       "  compare :: a -> a -> Ordering\n",
       "  (<) :: a -> a -> Bool\n",
       "  (<=) :: a -> a -> Bool\n",
       "  (>) :: a -> a -> Bool\n",
       "  (>=) :: a -> a -> Bool\n",
       "  max :: a -> a -> a\n",
       "  min :: a -> a -> a\n",
       "  {-# MINIMAL compare | (<=) #-}\n",
       "  \t-- Defined in ‘GHC.Classes’\n",
       "instance [safe] Ord MyInt -- Defined at <interactive>:1:10\n",
       "instance (Ord a, Ord b) => Ord (Either a b) -- Defined in ‘Data.Either’\n",
       "instance Ord IHaskellTH.TypeFamilyHead -- Defined in ‘Language.Haskell.TH.Syntax’\n",
       "instance Ord IHaskellTH.Type -- Defined in ‘Language.Haskell.TH.Syntax’\n",
       "instance Ord IHaskellTH.TyVarBndr -- Defined in ‘Language.Haskell.TH.Syntax’\n",
       "instance Ord IHaskellTH.TySynEqn -- Defined in ‘Language.Haskell.TH.Syntax’\n",
       "instance Ord IHaskellTH.TyLit -- Defined in ‘Language.Haskell.TH.Syntax’\n",
       "instance Ord IHaskellTH.Stmt -- Defined in ‘Language.Haskell.TH.Syntax’\n",
       "instance Ord IHaskellTH.SourceUnpackedness -- Defined in ‘Language.Haskell.TH.Syntax’\n",
       "instance Ord IHaskellTH.SourceStrictness -- Defined in ‘Language.Haskell.TH.Syntax’\n",
       "instance Ord IHaskellTH.Safety -- Defined in ‘Language.Haskell.TH.Syntax’\n",
       "instance Ord IHaskellTH.RuleMatch -- Defined in ‘Language.Haskell.TH.Syntax’\n",
       "instance Ord IHaskellTH.RuleBndr -- Defined in ‘Language.Haskell.TH.Syntax’\n",
       "instance Ord IHaskellTH.Role -- Defined in ‘Language.Haskell.TH.Syntax’\n",
       "instance Ord IHaskellTH.Range -- Defined in ‘Language.Haskell.TH.Syntax’\n",
       "instance Ord IHaskellTH.Pragma -- Defined in ‘Language.Haskell.TH.Syntax’\n",
       "instance Ord IHaskellTH.Phases -- Defined in ‘Language.Haskell.TH.Syntax’\n",
       "instance Ord IHaskellTH.PatSynDir -- Defined in ‘Language.Haskell.TH.Syntax’\n",
       "instance Ord IHaskellTH.PatSynArgs -- Defined in ‘Language.Haskell.TH.Syntax’\n",
       "instance Ord IHaskellTH.Pat -- Defined in ‘Language.Haskell.TH.Syntax’\n",
       "instance Ord IHaskellTH.Overlap -- Defined in ‘Language.Haskell.TH.Syntax’\n",
       "instance Ord IHaskellTH.NameSpace -- Defined in ‘Language.Haskell.TH.Syntax’\n",
       "instance Ord IHaskellTH.Name -- Defined in ‘Language.Haskell.TH.Syntax’\n",
       "instance Ord IHaskellTH.ModuleInfo -- Defined in ‘Language.Haskell.TH.Syntax’\n",
       "instance Ord IHaskellTH.Match -- Defined in ‘Language.Haskell.TH.Syntax’\n",
       "instance Ord IHaskellTH.Loc -- Defined in ‘Language.Haskell.TH.Syntax’\n",
       "instance Ord IHaskellTH.Lit -- Defined in ‘Language.Haskell.TH.Syntax’\n",
       "instance Ord IHaskellTH.Inline -- Defined in ‘Language.Haskell.TH.Syntax’\n",
       "instance Ord IHaskellTH.InjectivityAnn -- Defined in ‘Language.Haskell.TH.Syntax’\n",
       "instance Ord IHaskellTH.Info -- Defined in ‘Language.Haskell.TH.Syntax’\n",
       "instance Ord IHaskellTH.Guard -- Defined in ‘Language.Haskell.TH.Syntax’\n",
       "instance Ord IHaskellTH.FunDep -- Defined in ‘Language.Haskell.TH.Syntax’\n",
       "instance Ord IHaskellTH.Foreign -- Defined in ‘Language.Haskell.TH.Syntax’\n",
       "instance Ord IHaskellTH.FixityDirection -- Defined in ‘Language.Haskell.TH.Syntax’\n",
       "instance Ord IHaskellTH.Fixity -- Defined in ‘Language.Haskell.TH.Syntax’\n",
       "instance Ord IHaskellTH.FamilyResultSig -- Defined in ‘Language.Haskell.TH.Syntax’\n",
       "instance Ord IHaskellTH.Exp -- Defined in ‘Language.Haskell.TH.Syntax’\n",
       "instance Ord IHaskellTH.DerivStrategy -- Defined in ‘Language.Haskell.TH.Syntax’\n",
       "instance Ord IHaskellTH.DerivClause -- Defined in ‘Language.Haskell.TH.Syntax’\n",
       "instance Ord IHaskellTH.DecidedStrictness -- Defined in ‘Language.Haskell.TH.Syntax’\n",
       "instance Ord IHaskellTH.Dec -- Defined in ‘Language.Haskell.TH.Syntax’\n",
       "instance Ord IHaskellTH.Con -- Defined in ‘Language.Haskell.TH.Syntax’\n",
       "instance Ord IHaskellTH.Clause -- Defined in ‘Language.Haskell.TH.Syntax’\n",
       "instance Ord IHaskellTH.Callconv -- Defined in ‘Language.Haskell.TH.Syntax’\n",
       "instance Ord IHaskellTH.Body -- Defined in ‘Language.Haskell.TH.Syntax’\n",
       "instance Ord IHaskellTH.Bang -- Defined in ‘Language.Haskell.TH.Syntax’\n",
       "instance Ord IHaskellTH.AnnTarget -- Defined in ‘Language.Haskell.TH.Syntax’\n",
       "instance Ord IHaskellTH.AnnLookup -- Defined in ‘Language.Haskell.TH.Syntax’\n",
       "instance Ord IHaskellSysIO.NewlineMode -- Defined in ‘GHC.IO.Handle.Types’\n",
       "instance Ord IHaskellSysIO.Newline -- Defined in ‘GHC.IO.Handle.Types’\n",
       "instance Ord IHaskellSysIO.BufferMode -- Defined in ‘GHC.IO.Handle.Types’\n",
       "instance Ord a => Ord [a] -- Defined in ‘GHC.Classes’\n",
       "instance Ord Word -- Defined in ‘GHC.Classes’\n",
       "instance Ord Ordering -- Defined in ‘GHC.Classes’\n",
       "instance Ord Int -- Defined in ‘GHC.Classes’\n",
       "instance Ord Float -- Defined in ‘GHC.Classes’\n",
       "instance Ord Double -- Defined in ‘GHC.Classes’\n",
       "instance Ord Char -- Defined in ‘GHC.Classes’\n",
       "instance Ord Bool -- Defined in ‘GHC.Classes’\n",
       "instance (Ord a, Ord b, Ord c, Ord d, Ord e, Ord f, Ord g, Ord h, Ord i, Ord j, Ord k, Ord l, Ord m, Ord n, Ord o) => Ord (a, b, c, d, e, f, g, h, i, j, k, l, m, n, o) -- Defined in ‘GHC.Classes’\n",
       "instance (Ord a, Ord b, Ord c, Ord d, Ord e, Ord f, Ord g, Ord h, Ord i, Ord j, Ord k, Ord l, Ord m, Ord n) => Ord (a, b, c, d, e, f, g, h, i, j, k, l, m, n) -- Defined in ‘GHC.Classes’\n",
       "instance (Ord a, Ord b, Ord c, Ord d, Ord e, Ord f, Ord g, Ord h, Ord i, Ord j, Ord k, Ord l, Ord m) => Ord (a, b, c, d, e, f, g, h, i, j, k, l, m) -- Defined in ‘GHC.Classes’\n",
       "instance (Ord a, Ord b, Ord c, Ord d, Ord e, Ord f, Ord g, Ord h, Ord i, Ord j, Ord k, Ord l) => Ord (a, b, c, d, e, f, g, h, i, j, k, l) -- Defined in ‘GHC.Classes’\n",
       "instance (Ord a, Ord b, Ord c, Ord d, Ord e, Ord f, Ord g, Ord h, Ord i, Ord j, Ord k) => Ord (a, b, c, d, e, f, g, h, i, j, k) -- Defined in ‘GHC.Classes’\n",
       "instance (Ord a, Ord b, Ord c, Ord d, Ord e, Ord f, Ord g, Ord h, Ord i, Ord j) => Ord (a, b, c, d, e, f, g, h, i, j) -- Defined in ‘GHC.Classes’\n",
       "instance (Ord a, Ord b, Ord c, Ord d, Ord e, Ord f, Ord g, Ord h, Ord i) => Ord (a, b, c, d, e, f, g, h, i) -- Defined in ‘GHC.Classes’\n",
       "instance (Ord a, Ord b, Ord c, Ord d, Ord e, Ord f, Ord g, Ord h) => Ord (a, b, c, d, e, f, g, h) -- Defined in ‘GHC.Classes’\n",
       "instance (Ord a, Ord b, Ord c, Ord d, Ord e, Ord f, Ord g) => Ord (a, b, c, d, e, f, g) -- Defined in ‘GHC.Classes’\n",
       "instance (Ord a, Ord b, Ord c, Ord d, Ord e, Ord f) => Ord (a, b, c, d, e, f) -- Defined in ‘GHC.Classes’\n",
       "instance (Ord a, Ord b, Ord c, Ord d, Ord e) => Ord (a, b, c, d, e) -- Defined in ‘GHC.Classes’\n",
       "instance (Ord a, Ord b, Ord c, Ord d) => Ord (a, b, c, d) -- Defined in ‘GHC.Classes’\n",
       "instance (Ord a, Ord b, Ord c) => Ord (a, b, c) -- Defined in ‘GHC.Classes’\n",
       "instance (Ord a, Ord b) => Ord (a, b) -- Defined in ‘GHC.Classes’\n",
       "instance Ord () -- Defined in ‘GHC.Classes’\n",
       "instance Ord Integer -- Defined in ‘integer-gmp-1.0.2.0:GHC.Integer.Type’\n",
       "instance Ord a => Ord (Maybe a) -- Defined in ‘GHC.Maybe’\n",
       "</textarea></form></div><script>CodeMirror.fromTextArea(document.getElementById('code'), {mode: 'haskell', readOnly: 'nocursor'});</script>"
      ],
      "text/plain": [
       "class Eq a => Ord a where\n",
       "  compare :: a -> a -> Ordering\n",
       "  (<) :: a -> a -> Bool\n",
       "  (<=) :: a -> a -> Bool\n",
       "  (>) :: a -> a -> Bool\n",
       "  (>=) :: a -> a -> Bool\n",
       "  max :: a -> a -> a\n",
       "  min :: a -> a -> a\n",
       "  {-# MINIMAL compare | (<=) #-}\n",
       "  \t-- Defined in ‘GHC.Classes’\n",
       "instance [safe] Ord MyInt -- Defined at <interactive>:1:10\n",
       "instance (Ord a, Ord b) => Ord (Either a b) -- Defined in ‘Data.Either’\n",
       "instance Ord IHaskellTH.TypeFamilyHead -- Defined in ‘Language.Haskell.TH.Syntax’\n",
       "instance Ord IHaskellTH.Type -- Defined in ‘Language.Haskell.TH.Syntax’\n",
       "instance Ord IHaskellTH.TyVarBndr -- Defined in ‘Language.Haskell.TH.Syntax’\n",
       "instance Ord IHaskellTH.TySynEqn -- Defined in ‘Language.Haskell.TH.Syntax’\n",
       "instance Ord IHaskellTH.TyLit -- Defined in ‘Language.Haskell.TH.Syntax’\n",
       "instance Ord IHaskellTH.Stmt -- Defined in ‘Language.Haskell.TH.Syntax’\n",
       "instance Ord IHaskellTH.SourceUnpackedness -- Defined in ‘Language.Haskell.TH.Syntax’\n",
       "instance Ord IHaskellTH.SourceStrictness -- Defined in ‘Language.Haskell.TH.Syntax’\n",
       "instance Ord IHaskellTH.Safety -- Defined in ‘Language.Haskell.TH.Syntax’\n",
       "instance Ord IHaskellTH.RuleMatch -- Defined in ‘Language.Haskell.TH.Syntax’\n",
       "instance Ord IHaskellTH.RuleBndr -- Defined in ‘Language.Haskell.TH.Syntax’\n",
       "instance Ord IHaskellTH.Role -- Defined in ‘Language.Haskell.TH.Syntax’\n",
       "instance Ord IHaskellTH.Range -- Defined in ‘Language.Haskell.TH.Syntax’\n",
       "instance Ord IHaskellTH.Pragma -- Defined in ‘Language.Haskell.TH.Syntax’\n",
       "instance Ord IHaskellTH.Phases -- Defined in ‘Language.Haskell.TH.Syntax’\n",
       "instance Ord IHaskellTH.PatSynDir -- Defined in ‘Language.Haskell.TH.Syntax’\n",
       "instance Ord IHaskellTH.PatSynArgs -- Defined in ‘Language.Haskell.TH.Syntax’\n",
       "instance Ord IHaskellTH.Pat -- Defined in ‘Language.Haskell.TH.Syntax’\n",
       "instance Ord IHaskellTH.Overlap -- Defined in ‘Language.Haskell.TH.Syntax’\n",
       "instance Ord IHaskellTH.NameSpace -- Defined in ‘Language.Haskell.TH.Syntax’\n",
       "instance Ord IHaskellTH.Name -- Defined in ‘Language.Haskell.TH.Syntax’\n",
       "instance Ord IHaskellTH.ModuleInfo -- Defined in ‘Language.Haskell.TH.Syntax’\n",
       "instance Ord IHaskellTH.Match -- Defined in ‘Language.Haskell.TH.Syntax’\n",
       "instance Ord IHaskellTH.Loc -- Defined in ‘Language.Haskell.TH.Syntax’\n",
       "instance Ord IHaskellTH.Lit -- Defined in ‘Language.Haskell.TH.Syntax’\n",
       "instance Ord IHaskellTH.Inline -- Defined in ‘Language.Haskell.TH.Syntax’\n",
       "instance Ord IHaskellTH.InjectivityAnn -- Defined in ‘Language.Haskell.TH.Syntax’\n",
       "instance Ord IHaskellTH.Info -- Defined in ‘Language.Haskell.TH.Syntax’\n",
       "instance Ord IHaskellTH.Guard -- Defined in ‘Language.Haskell.TH.Syntax’\n",
       "instance Ord IHaskellTH.FunDep -- Defined in ‘Language.Haskell.TH.Syntax’\n",
       "instance Ord IHaskellTH.Foreign -- Defined in ‘Language.Haskell.TH.Syntax’\n",
       "instance Ord IHaskellTH.FixityDirection -- Defined in ‘Language.Haskell.TH.Syntax’\n",
       "instance Ord IHaskellTH.Fixity -- Defined in ‘Language.Haskell.TH.Syntax’\n",
       "instance Ord IHaskellTH.FamilyResultSig -- Defined in ‘Language.Haskell.TH.Syntax’\n",
       "instance Ord IHaskellTH.Exp -- Defined in ‘Language.Haskell.TH.Syntax’\n",
       "instance Ord IHaskellTH.DerivStrategy -- Defined in ‘Language.Haskell.TH.Syntax’\n",
       "instance Ord IHaskellTH.DerivClause -- Defined in ‘Language.Haskell.TH.Syntax’\n",
       "instance Ord IHaskellTH.DecidedStrictness -- Defined in ‘Language.Haskell.TH.Syntax’\n",
       "instance Ord IHaskellTH.Dec -- Defined in ‘Language.Haskell.TH.Syntax’\n",
       "instance Ord IHaskellTH.Con -- Defined in ‘Language.Haskell.TH.Syntax’\n",
       "instance Ord IHaskellTH.Clause -- Defined in ‘Language.Haskell.TH.Syntax’\n",
       "instance Ord IHaskellTH.Callconv -- Defined in ‘Language.Haskell.TH.Syntax’\n",
       "instance Ord IHaskellTH.Body -- Defined in ‘Language.Haskell.TH.Syntax’\n",
       "instance Ord IHaskellTH.Bang -- Defined in ‘Language.Haskell.TH.Syntax’\n",
       "instance Ord IHaskellTH.AnnTarget -- Defined in ‘Language.Haskell.TH.Syntax’\n",
       "instance Ord IHaskellTH.AnnLookup -- Defined in ‘Language.Haskell.TH.Syntax’\n",
       "instance Ord IHaskellSysIO.NewlineMode -- Defined in ‘GHC.IO.Handle.Types’\n",
       "instance Ord IHaskellSysIO.Newline -- Defined in ‘GHC.IO.Handle.Types’\n",
       "instance Ord IHaskellSysIO.BufferMode -- Defined in ‘GHC.IO.Handle.Types’\n",
       "instance Ord a => Ord [a] -- Defined in ‘GHC.Classes’\n",
       "instance Ord Word -- Defined in ‘GHC.Classes’\n",
       "instance Ord Ordering -- Defined in ‘GHC.Classes’\n",
       "instance Ord Int -- Defined in ‘GHC.Classes’\n",
       "instance Ord Float -- Defined in ‘GHC.Classes’\n",
       "instance Ord Double -- Defined in ‘GHC.Classes’\n",
       "instance Ord Char -- Defined in ‘GHC.Classes’\n",
       "instance Ord Bool -- Defined in ‘GHC.Classes’\n",
       "instance (Ord a, Ord b, Ord c, Ord d, Ord e, Ord f, Ord g, Ord h, Ord i, Ord j, Ord k, Ord l, Ord m, Ord n, Ord o) => Ord (a, b, c, d, e, f, g, h, i, j, k, l, m, n, o) -- Defined in ‘GHC.Classes’\n",
       "instance (Ord a, Ord b, Ord c, Ord d, Ord e, Ord f, Ord g, Ord h, Ord i, Ord j, Ord k, Ord l, Ord m, Ord n) => Ord (a, b, c, d, e, f, g, h, i, j, k, l, m, n) -- Defined in ‘GHC.Classes’\n",
       "instance (Ord a, Ord b, Ord c, Ord d, Ord e, Ord f, Ord g, Ord h, Ord i, Ord j, Ord k, Ord l, Ord m) => Ord (a, b, c, d, e, f, g, h, i, j, k, l, m) -- Defined in ‘GHC.Classes’\n",
       "instance (Ord a, Ord b, Ord c, Ord d, Ord e, Ord f, Ord g, Ord h, Ord i, Ord j, Ord k, Ord l) => Ord (a, b, c, d, e, f, g, h, i, j, k, l) -- Defined in ‘GHC.Classes’\n",
       "instance (Ord a, Ord b, Ord c, Ord d, Ord e, Ord f, Ord g, Ord h, Ord i, Ord j, Ord k) => Ord (a, b, c, d, e, f, g, h, i, j, k) -- Defined in ‘GHC.Classes’\n",
       "instance (Ord a, Ord b, Ord c, Ord d, Ord e, Ord f, Ord g, Ord h, Ord i, Ord j) => Ord (a, b, c, d, e, f, g, h, i, j) -- Defined in ‘GHC.Classes’\n",
       "instance (Ord a, Ord b, Ord c, Ord d, Ord e, Ord f, Ord g, Ord h, Ord i) => Ord (a, b, c, d, e, f, g, h, i) -- Defined in ‘GHC.Classes’\n",
       "instance (Ord a, Ord b, Ord c, Ord d, Ord e, Ord f, Ord g, Ord h) => Ord (a, b, c, d, e, f, g, h) -- Defined in ‘GHC.Classes’\n",
       "instance (Ord a, Ord b, Ord c, Ord d, Ord e, Ord f, Ord g) => Ord (a, b, c, d, e, f, g) -- Defined in ‘GHC.Classes’\n",
       "instance (Ord a, Ord b, Ord c, Ord d, Ord e, Ord f) => Ord (a, b, c, d, e, f) -- Defined in ‘GHC.Classes’\n",
       "instance (Ord a, Ord b, Ord c, Ord d, Ord e) => Ord (a, b, c, d, e) -- Defined in ‘GHC.Classes’\n",
       "instance (Ord a, Ord b, Ord c, Ord d) => Ord (a, b, c, d) -- Defined in ‘GHC.Classes’\n",
       "instance (Ord a, Ord b, Ord c) => Ord (a, b, c) -- Defined in ‘GHC.Classes’\n",
       "instance (Ord a, Ord b) => Ord (a, b) -- Defined in ‘GHC.Classes’\n",
       "instance Ord () -- Defined in ‘GHC.Classes’\n",
       "instance Ord Integer -- Defined in ‘integer-gmp-1.0.2.0:GHC.Integer.Type’\n",
       "instance Ord a => Ord (Maybe a) -- Defined in ‘GHC.Maybe’"
      ]
     },
     "metadata": {},
     "output_type": "display_data"
    }
   ],
   "source": [
    "MkMyInt 1 <= MkMyInt 2\n",
    "MkMyInt 1 < MkMyInt 2\n",
    "MkMyInt 1 > MkMyInt 2\n",
    "MkMyInt 1 >= MkMyInt 2\n",
    "\n",
    ":i Ord\n",
    "\n",
    "MkMyInt 1 + MkMyInt 2\n",
    ":i Num"
   ]
  },
  {
   "cell_type": "code",
   "execution_count": 20,
   "metadata": {},
   "outputs": [],
   "source": [
    "instance Num MyInt where\n",
    "  (+) (MkMyInt i1) (MkMyInt i2) = MkMyInt (i1 + i2)\n",
    "  (-) (MkMyInt i1) (MkMyInt i2) = MkMyInt (i1 - i2)\n",
    "  (*) (MkMyInt i1) (MkMyInt i2) = MkMyInt (i1 * i2)\n",
    "  negate (MkMyInt i)            = MkMyInt (negate i)\n",
    "  abs (MkMyInt i)               = MkMyInt (abs i)\n",
    "  signum (MkMyInt i)            = MkMyInt (signum i)\n",
    "  fromInteger int               = MkMyInt (fromIntegral int)"
   ]
  },
  {
   "cell_type": "code",
   "execution_count": 21,
   "metadata": {},
   "outputs": [
    {
     "ename": "",
     "evalue": "",
     "header": "MessageHeader {mhIdentifiers = [\"d8996f04-c27a-49b2-b5f9-4654e8b0b06c\"], mhParentHeader = Just (MessageHeader {mhIdentifiers = [\"d8996f04-c27a-49b2-b5f9-4654e8b0b06c\"], mhParentHeader = Nothing, mhMetadata = Metadata (fromList [(\"recordTiming\",Bool False),(\"deletedCells\",Array []),(\"cellId\",String \"625f9ce1-f196-4410-aec9-1b86473fc894\")]), mhMessageId = UUID {uuidToString = \"91a2f3d3-9691-413a-baaa-74c3d30ff399\"}, mhSessionId = UUID {uuidToString = \"d8996f04-c27a-49b2-b5f9-4654e8b0b06c\"}, mhUsername = \"\", mhMsgType = ExecuteRequestMessage, mhBuffers = []}), mhMetadata = Metadata (fromList []), mhMessageId = UUID {uuidToString = \"49bb0475-1bf5-4321-840b-2e1dfe8c5440\"}, mhSessionId = UUID {uuidToString = \"d8996f04-c27a-49b2-b5f9-4654e8b0b06c\"}, mhUsername = \"\", mhMsgType = ExecuteErrorMessage, mhBuffers = []}",
     "output_type": "error",
     "traceback": [
      "<interactive>:1:1: error:\n    • No instance for (Show MyInt) arising from a use of ‘print’\n    • In a stmt of an interactive GHCi command: print it"
     ]
    }
   ],
   "source": [
    "MkMyInt 1 + MkMyInt 2\n",
    "\n",
    "MkMyInt 1\n",
    ":i Show"
   ]
  },
  {
   "cell_type": "code",
   "execution_count": 22,
   "metadata": {},
   "outputs": [],
   "source": [
    "instance Show MyInt where\n",
    "  show (MkMyInt i) = \"MkMyInt \" ++ show i"
   ]
  },
  {
   "cell_type": "code",
   "execution_count": 23,
   "metadata": {},
   "outputs": [
    {
     "data": {
      "text/html": [
       "<style>/* Styles used for the Hoogle display in the pager */\n",
       ".hoogle-doc {\n",
       "display: block;\n",
       "padding-bottom: 1.3em;\n",
       "padding-left: 0.4em;\n",
       "}\n",
       ".hoogle-code {\n",
       "display: block;\n",
       "font-family: monospace;\n",
       "white-space: pre;\n",
       "}\n",
       ".hoogle-text {\n",
       "display: block;\n",
       "}\n",
       ".hoogle-name {\n",
       "color: green;\n",
       "font-weight: bold;\n",
       "}\n",
       ".hoogle-head {\n",
       "font-weight: bold;\n",
       "}\n",
       ".hoogle-sub {\n",
       "display: block;\n",
       "margin-left: 0.4em;\n",
       "}\n",
       ".hoogle-package {\n",
       "font-weight: bold;\n",
       "font-style: italic;\n",
       "}\n",
       ".hoogle-module {\n",
       "font-weight: bold;\n",
       "}\n",
       ".hoogle-class {\n",
       "font-weight: bold;\n",
       "}\n",
       ".get-type {\n",
       "color: green;\n",
       "font-weight: bold;\n",
       "font-family: monospace;\n",
       "display: block;\n",
       "white-space: pre-wrap;\n",
       "}\n",
       ".show-type {\n",
       "color: green;\n",
       "font-weight: bold;\n",
       "font-family: monospace;\n",
       "margin-left: 1em;\n",
       "}\n",
       ".mono {\n",
       "font-family: monospace;\n",
       "display: block;\n",
       "}\n",
       ".err-msg {\n",
       "color: red;\n",
       "font-style: italic;\n",
       "font-family: monospace;\n",
       "white-space: pre;\n",
       "display: block;\n",
       "}\n",
       "#unshowable {\n",
       "color: red;\n",
       "font-weight: bold;\n",
       "}\n",
       ".err-msg.in.collapse {\n",
       "padding-top: 0.7em;\n",
       "}\n",
       ".highlight-code {\n",
       "white-space: pre;\n",
       "font-family: monospace;\n",
       "}\n",
       ".suggestion-warning { \n",
       "font-weight: bold;\n",
       "color: rgb(200, 130, 0);\n",
       "}\n",
       ".suggestion-error { \n",
       "font-weight: bold;\n",
       "color: red;\n",
       "}\n",
       ".suggestion-name {\n",
       "font-weight: bold;\n",
       "}\n",
       "</style><div class=\"suggestion-name\" style=\"clear:both;\">Redundant bracket</div><div class=\"suggestion-row\" style=\"float: left;\"><div class=\"suggestion-warning\">Found:</div><div class=\"highlight-code\" id=\"haskell\">(MkMyInt 2) * (MkMyInt 3 + MkMyInt 4)</div></div><div class=\"suggestion-row\" style=\"float: left;\"><div class=\"suggestion-warning\">Why Not:</div><div class=\"highlight-code\" id=\"haskell\">MkMyInt 2 * (MkMyInt 3 + MkMyInt 4)</div></div><div class=\"suggestion-name\" style=\"clear:both;\">Redundant bracket</div><div class=\"suggestion-row\" style=\"float: left;\"><div class=\"suggestion-warning\">Found:</div><div class=\"highlight-code\" id=\"haskell\">(MkMyInt 5) ^ 2</div></div><div class=\"suggestion-row\" style=\"float: left;\"><div class=\"suggestion-warning\">Why Not:</div><div class=\"highlight-code\" id=\"haskell\">MkMyInt 5 ^ 2</div></div>"
      ],
      "text/plain": [
       "Line 3: Redundant bracket\n",
       "Found:\n",
       "(MkMyInt 2) * (MkMyInt 3 + MkMyInt 4)\n",
       "Why not:\n",
       "MkMyInt 2 * (MkMyInt 3 + MkMyInt 4)Line 5: Redundant bracket\n",
       "Found:\n",
       "(MkMyInt 5) ^ 2\n",
       "Why not:\n",
       "MkMyInt 5 ^ 2"
      ]
     },
     "metadata": {},
     "output_type": "display_data"
    },
    {
     "data": {
      "text/plain": [
       "MkMyInt 3"
      ]
     },
     "metadata": {},
     "output_type": "display_data"
    },
    {
     "data": {
      "text/plain": [
       "MkMyInt 5"
      ]
     },
     "metadata": {},
     "output_type": "display_data"
    },
    {
     "data": {
      "text/plain": [
       "MkMyInt 14"
      ]
     },
     "metadata": {},
     "output_type": "display_data"
    },
    {
     "data": {
      "text/plain": [
       "MkMyInt 25"
      ]
     },
     "metadata": {},
     "output_type": "display_data"
    },
    {
     "ename": "",
     "evalue": "",
     "header": "MessageHeader {mhIdentifiers = [\"d8996f04-c27a-49b2-b5f9-4654e8b0b06c\"], mhParentHeader = Just (MessageHeader {mhIdentifiers = [\"d8996f04-c27a-49b2-b5f9-4654e8b0b06c\"], mhParentHeader = Nothing, mhMetadata = Metadata (fromList [(\"recordTiming\",Bool False),(\"deletedCells\",Array []),(\"cellId\",String \"8ce9f777-9043-4a63-b5cc-57203de3e59a\")]), mhMessageId = UUID {uuidToString = \"992f8e14-7f07-40c8-8d45-3d1317c5cc68\"}, mhSessionId = UUID {uuidToString = \"d8996f04-c27a-49b2-b5f9-4654e8b0b06c\"}, mhUsername = \"\", mhMsgType = ExecuteRequestMessage, mhBuffers = []}), mhMetadata = Metadata (fromList []), mhMessageId = UUID {uuidToString = \"1526f304-cb88-458c-b472-dab58c864af9\"}, mhSessionId = UUID {uuidToString = \"d8996f04-c27a-49b2-b5f9-4654e8b0b06c\"}, mhUsername = \"\", mhMsgType = ExecuteErrorMessage, mhBuffers = []}",
     "output_type": "error",
     "traceback": [
      "<interactive>:1:1: error:\n    • No instance for (Integral MyInt) arising from a use of ‘div’\n    • In the expression: MkMyInt 1 `div` MkMyInt 2\n      In an equation for ‘it’: it = MkMyInt 1 `div` MkMyInt 2"
     ]
    }
   ],
   "source": [
    "MkMyInt 1 + MkMyInt 2\n",
    "MkMyInt 5\n",
    "(MkMyInt 2) * (MkMyInt 3 + MkMyInt 4)\n",
    "\n",
    "(MkMyInt 5) ^ 2\n",
    "MkMyInt 1 `div` MkMyInt 2"
   ]
  },
  {
   "cell_type": "markdown",
   "metadata": {},
   "source": [
    "### 5.6.2"
   ]
  },
  {
   "cell_type": "markdown",
   "metadata": {},
   "source": [
    "Trochę kusi, żeby zrobić `(==) a b = show a == show b` ;-)"
   ]
  },
  {
   "cell_type": "code",
   "execution_count": 24,
   "metadata": {},
   "outputs": [],
   "source": [
    "instance Eq a => Eq (BinTree a) where\n",
    "  (==) EmptyBT EmptyBT = True\n",
    "  (==) EmptyBT _ = False\n",
    "  (==) _ EmptyBT = False\n",
    "  (==) (NodeBT n1 lt1 rt1) (NodeBT n2 lt2 rt2) = n1 == n2 && lt1 == lt2 && rt1 == rt2"
   ]
  },
  {
   "cell_type": "code",
   "execution_count": 25,
   "metadata": {},
   "outputs": [
    {
     "data": {
      "text/plain": [
       "{{∅<-1->∅}<-2->{∅<-3->∅}}"
      ]
     },
     "metadata": {},
     "output_type": "display_data"
    },
    {
     "data": {
      "text/plain": [
       "{{∅<-1->∅}<-2->{∅<-3->∅}}"
      ]
     },
     "metadata": {},
     "output_type": "display_data"
    },
    {
     "data": {
      "text/plain": [
       "{{∅<-2->∅}<-3->{∅<-3->∅}}"
      ]
     },
     "metadata": {},
     "output_type": "display_data"
    },
    {
     "data": {
      "text/plain": [
       "True"
      ]
     },
     "metadata": {},
     "output_type": "display_data"
    },
    {
     "data": {
      "text/plain": [
       "False"
      ]
     },
     "metadata": {},
     "output_type": "display_data"
    },
    {
     "data": {
      "text/plain": [
       "False"
      ]
     },
     "metadata": {},
     "output_type": "display_data"
    }
   ],
   "source": [
    "a = list2BST [2, 1, 3]\n",
    "b = list2BST [3, 2, 1]\n",
    "c = list2BST [3, 3, 2]\n",
    "a\n",
    "b\n",
    "c\n",
    "a == b\n",
    "a == c\n",
    "b == c"
   ]
  },
  {
   "cell_type": "markdown",
   "metadata": {},
   "source": [
    "## 7) Moduły i importy"
   ]
  },
  {
   "cell_type": "markdown",
   "metadata": {},
   "source": [
    "### 7.6.1"
   ]
  },
  {
   "cell_type": "markdown",
   "metadata": {},
   "source": [
    "Przećwiczone poza Jupyterem (w GHCI)"
   ]
  }
 ],
 "metadata": {
  "kernelspec": {
   "display_name": "Haskell",
   "language": "haskell",
   "name": "haskell"
  },
  "language_info": {
   "codemirror_mode": "ihaskell",
   "file_extension": ".hs",
   "name": "haskell",
   "pygments_lexer": "Haskell",
   "version": "8.6.5"
  }
 },
 "nbformat": 4,
 "nbformat_minor": 4
}
